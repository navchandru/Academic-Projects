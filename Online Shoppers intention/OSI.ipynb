{
 "cells": [
  {
   "cell_type": "code",
   "execution_count": 1,
   "metadata": {},
   "outputs": [],
   "source": [
    "import numpy as np\n",
    "import pandas as pd\n",
    "import matplotlib.pyplot as plt\n",
    "import seaborn as sns\n",
    "from sklearn import metrics\n",
    "from sklearn.ensemble import ExtraTreesClassifier\n",
    "from sklearn.feature_selection import SelectKBest\n",
    "from sklearn.feature_selection import chi2\n",
    "from sklearn.model_selection import train_test_split\n",
    "from sklearn.ensemble import RandomForestClassifier\n",
    "from sklearn.metrics import confusion_matrix\n",
    "from sklearn.metrics import classification_report\n",
    "from sklearn.tree import DecisionTreeClassifier\n",
    "from sklearn.metrics import accuracy_score,r2_score\n",
    "from sklearn.model_selection import cross_val_score\n",
    "\n",
    "pd.set_option('display.max_rows', 500)\n",
    "pd.set_option('display.max_columns', None)\n",
    "\n",
    "import warnings\n",
    "warnings.filterwarnings('ignore')"
   ]
  },
  {
   "cell_type": "code",
   "execution_count": 2,
   "metadata": {},
   "outputs": [],
   "source": [
    "#Online Shoppers intention csv file is read and loaded to osi\n",
    "osi = pd.read_csv(\"osi.csv\")"
   ]
  },
  {
   "cell_type": "code",
   "execution_count": 3,
   "metadata": {},
   "outputs": [
    {
     "name": "stdout",
     "output_type": "stream",
     "text": [
      "Osi data shape: (12330, 18)\n"
     ]
    }
   ],
   "source": [
    "#Shape is printed with (rows,columns)\n",
    "print(\"Osi data shape:\", osi.shape)"
   ]
  },
  {
   "cell_type": "code",
   "execution_count": 4,
   "metadata": {},
   "outputs": [
    {
     "data": {
      "text/plain": [
       "pandas.core.frame.DataFrame"
      ]
     },
     "execution_count": 4,
     "metadata": {},
     "output_type": "execute_result"
    }
   ],
   "source": [
    "type(osi)"
   ]
  },
  {
   "cell_type": "code",
   "execution_count": 5,
   "metadata": {},
   "outputs": [
    {
     "data": {
      "text/html": [
       "<div>\n",
       "<style scoped>\n",
       "    .dataframe tbody tr th:only-of-type {\n",
       "        vertical-align: middle;\n",
       "    }\n",
       "\n",
       "    .dataframe tbody tr th {\n",
       "        vertical-align: top;\n",
       "    }\n",
       "\n",
       "    .dataframe thead th {\n",
       "        text-align: right;\n",
       "    }\n",
       "</style>\n",
       "<table border=\"1\" class=\"dataframe\">\n",
       "  <thead>\n",
       "    <tr style=\"text-align: right;\">\n",
       "      <th></th>\n",
       "      <th>Administrative</th>\n",
       "      <th>Administrative_Duration</th>\n",
       "      <th>Informational</th>\n",
       "      <th>Informational_Duration</th>\n",
       "      <th>ProductRelated</th>\n",
       "      <th>ProductRelated_Duration</th>\n",
       "      <th>BounceRates</th>\n",
       "      <th>ExitRates</th>\n",
       "      <th>PageValues</th>\n",
       "      <th>SpecialDay</th>\n",
       "      <th>Month</th>\n",
       "      <th>OperatingSystems</th>\n",
       "      <th>Browser</th>\n",
       "      <th>Region</th>\n",
       "      <th>TrafficType</th>\n",
       "      <th>VisitorType</th>\n",
       "      <th>Weekend</th>\n",
       "      <th>Revenue</th>\n",
       "    </tr>\n",
       "  </thead>\n",
       "  <tbody>\n",
       "    <tr>\n",
       "      <th>0</th>\n",
       "      <td>0</td>\n",
       "      <td>0.0</td>\n",
       "      <td>0</td>\n",
       "      <td>0.0</td>\n",
       "      <td>1</td>\n",
       "      <td>0.000000</td>\n",
       "      <td>0.200000</td>\n",
       "      <td>0.200000</td>\n",
       "      <td>0.000000</td>\n",
       "      <td>0.0</td>\n",
       "      <td>Feb</td>\n",
       "      <td>1</td>\n",
       "      <td>1</td>\n",
       "      <td>1</td>\n",
       "      <td>1</td>\n",
       "      <td>Returning_Visitor</td>\n",
       "      <td>False</td>\n",
       "      <td>False</td>\n",
       "    </tr>\n",
       "    <tr>\n",
       "      <th>1</th>\n",
       "      <td>0</td>\n",
       "      <td>0.0</td>\n",
       "      <td>0</td>\n",
       "      <td>0.0</td>\n",
       "      <td>2</td>\n",
       "      <td>64.000000</td>\n",
       "      <td>0.000000</td>\n",
       "      <td>0.100000</td>\n",
       "      <td>0.000000</td>\n",
       "      <td>0.0</td>\n",
       "      <td>Feb</td>\n",
       "      <td>2</td>\n",
       "      <td>2</td>\n",
       "      <td>1</td>\n",
       "      <td>2</td>\n",
       "      <td>Returning_Visitor</td>\n",
       "      <td>False</td>\n",
       "      <td>False</td>\n",
       "    </tr>\n",
       "    <tr>\n",
       "      <th>2</th>\n",
       "      <td>0</td>\n",
       "      <td>0.0</td>\n",
       "      <td>0</td>\n",
       "      <td>0.0</td>\n",
       "      <td>1</td>\n",
       "      <td>0.000000</td>\n",
       "      <td>0.200000</td>\n",
       "      <td>0.200000</td>\n",
       "      <td>0.000000</td>\n",
       "      <td>0.0</td>\n",
       "      <td>Feb</td>\n",
       "      <td>4</td>\n",
       "      <td>1</td>\n",
       "      <td>9</td>\n",
       "      <td>3</td>\n",
       "      <td>Returning_Visitor</td>\n",
       "      <td>False</td>\n",
       "      <td>False</td>\n",
       "    </tr>\n",
       "    <tr>\n",
       "      <th>3</th>\n",
       "      <td>0</td>\n",
       "      <td>0.0</td>\n",
       "      <td>0</td>\n",
       "      <td>0.0</td>\n",
       "      <td>2</td>\n",
       "      <td>2.666667</td>\n",
       "      <td>0.050000</td>\n",
       "      <td>0.140000</td>\n",
       "      <td>0.000000</td>\n",
       "      <td>0.0</td>\n",
       "      <td>Feb</td>\n",
       "      <td>3</td>\n",
       "      <td>2</td>\n",
       "      <td>2</td>\n",
       "      <td>4</td>\n",
       "      <td>Returning_Visitor</td>\n",
       "      <td>False</td>\n",
       "      <td>False</td>\n",
       "    </tr>\n",
       "    <tr>\n",
       "      <th>4</th>\n",
       "      <td>0</td>\n",
       "      <td>0.0</td>\n",
       "      <td>0</td>\n",
       "      <td>0.0</td>\n",
       "      <td>10</td>\n",
       "      <td>627.500000</td>\n",
       "      <td>0.020000</td>\n",
       "      <td>0.050000</td>\n",
       "      <td>0.000000</td>\n",
       "      <td>0.0</td>\n",
       "      <td>Feb</td>\n",
       "      <td>3</td>\n",
       "      <td>3</td>\n",
       "      <td>1</td>\n",
       "      <td>4</td>\n",
       "      <td>Returning_Visitor</td>\n",
       "      <td>True</td>\n",
       "      <td>False</td>\n",
       "    </tr>\n",
       "    <tr>\n",
       "      <th>...</th>\n",
       "      <td>...</td>\n",
       "      <td>...</td>\n",
       "      <td>...</td>\n",
       "      <td>...</td>\n",
       "      <td>...</td>\n",
       "      <td>...</td>\n",
       "      <td>...</td>\n",
       "      <td>...</td>\n",
       "      <td>...</td>\n",
       "      <td>...</td>\n",
       "      <td>...</td>\n",
       "      <td>...</td>\n",
       "      <td>...</td>\n",
       "      <td>...</td>\n",
       "      <td>...</td>\n",
       "      <td>...</td>\n",
       "      <td>...</td>\n",
       "      <td>...</td>\n",
       "    </tr>\n",
       "    <tr>\n",
       "      <th>12325</th>\n",
       "      <td>3</td>\n",
       "      <td>145.0</td>\n",
       "      <td>0</td>\n",
       "      <td>0.0</td>\n",
       "      <td>53</td>\n",
       "      <td>1783.791667</td>\n",
       "      <td>0.007143</td>\n",
       "      <td>0.029031</td>\n",
       "      <td>12.241717</td>\n",
       "      <td>0.0</td>\n",
       "      <td>Dec</td>\n",
       "      <td>4</td>\n",
       "      <td>6</td>\n",
       "      <td>1</td>\n",
       "      <td>1</td>\n",
       "      <td>Returning_Visitor</td>\n",
       "      <td>True</td>\n",
       "      <td>False</td>\n",
       "    </tr>\n",
       "    <tr>\n",
       "      <th>12326</th>\n",
       "      <td>0</td>\n",
       "      <td>0.0</td>\n",
       "      <td>0</td>\n",
       "      <td>0.0</td>\n",
       "      <td>5</td>\n",
       "      <td>465.750000</td>\n",
       "      <td>0.000000</td>\n",
       "      <td>0.021333</td>\n",
       "      <td>0.000000</td>\n",
       "      <td>0.0</td>\n",
       "      <td>Nov</td>\n",
       "      <td>3</td>\n",
       "      <td>2</td>\n",
       "      <td>1</td>\n",
       "      <td>8</td>\n",
       "      <td>Returning_Visitor</td>\n",
       "      <td>True</td>\n",
       "      <td>False</td>\n",
       "    </tr>\n",
       "    <tr>\n",
       "      <th>12327</th>\n",
       "      <td>0</td>\n",
       "      <td>0.0</td>\n",
       "      <td>0</td>\n",
       "      <td>0.0</td>\n",
       "      <td>6</td>\n",
       "      <td>184.250000</td>\n",
       "      <td>0.083333</td>\n",
       "      <td>0.086667</td>\n",
       "      <td>0.000000</td>\n",
       "      <td>0.0</td>\n",
       "      <td>Nov</td>\n",
       "      <td>3</td>\n",
       "      <td>2</td>\n",
       "      <td>1</td>\n",
       "      <td>13</td>\n",
       "      <td>Returning_Visitor</td>\n",
       "      <td>True</td>\n",
       "      <td>False</td>\n",
       "    </tr>\n",
       "    <tr>\n",
       "      <th>12328</th>\n",
       "      <td>4</td>\n",
       "      <td>75.0</td>\n",
       "      <td>0</td>\n",
       "      <td>0.0</td>\n",
       "      <td>15</td>\n",
       "      <td>346.000000</td>\n",
       "      <td>0.000000</td>\n",
       "      <td>0.021053</td>\n",
       "      <td>0.000000</td>\n",
       "      <td>0.0</td>\n",
       "      <td>Nov</td>\n",
       "      <td>2</td>\n",
       "      <td>2</td>\n",
       "      <td>3</td>\n",
       "      <td>11</td>\n",
       "      <td>Returning_Visitor</td>\n",
       "      <td>False</td>\n",
       "      <td>False</td>\n",
       "    </tr>\n",
       "    <tr>\n",
       "      <th>12329</th>\n",
       "      <td>0</td>\n",
       "      <td>0.0</td>\n",
       "      <td>0</td>\n",
       "      <td>0.0</td>\n",
       "      <td>3</td>\n",
       "      <td>21.250000</td>\n",
       "      <td>0.000000</td>\n",
       "      <td>0.066667</td>\n",
       "      <td>0.000000</td>\n",
       "      <td>0.0</td>\n",
       "      <td>Nov</td>\n",
       "      <td>3</td>\n",
       "      <td>2</td>\n",
       "      <td>1</td>\n",
       "      <td>2</td>\n",
       "      <td>New_Visitor</td>\n",
       "      <td>True</td>\n",
       "      <td>False</td>\n",
       "    </tr>\n",
       "  </tbody>\n",
       "</table>\n",
       "<p>12330 rows × 18 columns</p>\n",
       "</div>"
      ],
      "text/plain": [
       "       Administrative  Administrative_Duration  Informational  \\\n",
       "0                   0                      0.0              0   \n",
       "1                   0                      0.0              0   \n",
       "2                   0                      0.0              0   \n",
       "3                   0                      0.0              0   \n",
       "4                   0                      0.0              0   \n",
       "...               ...                      ...            ...   \n",
       "12325               3                    145.0              0   \n",
       "12326               0                      0.0              0   \n",
       "12327               0                      0.0              0   \n",
       "12328               4                     75.0              0   \n",
       "12329               0                      0.0              0   \n",
       "\n",
       "       Informational_Duration  ProductRelated  ProductRelated_Duration  \\\n",
       "0                         0.0               1                 0.000000   \n",
       "1                         0.0               2                64.000000   \n",
       "2                         0.0               1                 0.000000   \n",
       "3                         0.0               2                 2.666667   \n",
       "4                         0.0              10               627.500000   \n",
       "...                       ...             ...                      ...   \n",
       "12325                     0.0              53              1783.791667   \n",
       "12326                     0.0               5               465.750000   \n",
       "12327                     0.0               6               184.250000   \n",
       "12328                     0.0              15               346.000000   \n",
       "12329                     0.0               3                21.250000   \n",
       "\n",
       "       BounceRates  ExitRates  PageValues  SpecialDay Month  OperatingSystems  \\\n",
       "0         0.200000   0.200000    0.000000         0.0   Feb                 1   \n",
       "1         0.000000   0.100000    0.000000         0.0   Feb                 2   \n",
       "2         0.200000   0.200000    0.000000         0.0   Feb                 4   \n",
       "3         0.050000   0.140000    0.000000         0.0   Feb                 3   \n",
       "4         0.020000   0.050000    0.000000         0.0   Feb                 3   \n",
       "...            ...        ...         ...         ...   ...               ...   \n",
       "12325     0.007143   0.029031   12.241717         0.0   Dec                 4   \n",
       "12326     0.000000   0.021333    0.000000         0.0   Nov                 3   \n",
       "12327     0.083333   0.086667    0.000000         0.0   Nov                 3   \n",
       "12328     0.000000   0.021053    0.000000         0.0   Nov                 2   \n",
       "12329     0.000000   0.066667    0.000000         0.0   Nov                 3   \n",
       "\n",
       "       Browser  Region  TrafficType        VisitorType  Weekend  Revenue  \n",
       "0            1       1            1  Returning_Visitor    False    False  \n",
       "1            2       1            2  Returning_Visitor    False    False  \n",
       "2            1       9            3  Returning_Visitor    False    False  \n",
       "3            2       2            4  Returning_Visitor    False    False  \n",
       "4            3       1            4  Returning_Visitor     True    False  \n",
       "...        ...     ...          ...                ...      ...      ...  \n",
       "12325        6       1            1  Returning_Visitor     True    False  \n",
       "12326        2       1            8  Returning_Visitor     True    False  \n",
       "12327        2       1           13  Returning_Visitor     True    False  \n",
       "12328        2       3           11  Returning_Visitor    False    False  \n",
       "12329        2       1            2        New_Visitor     True    False  \n",
       "\n",
       "[12330 rows x 18 columns]"
      ]
     },
     "execution_count": 5,
     "metadata": {},
     "output_type": "execute_result"
    }
   ],
   "source": [
    "#osi table is displayed\n",
    "osi"
   ]
  },
  {
   "cell_type": "code",
   "execution_count": 6,
   "metadata": {},
   "outputs": [],
   "source": [
    "#Null or NA values are dropped\n",
    "osi.dropna(inplace=True)"
   ]
  },
  {
   "cell_type": "code",
   "execution_count": 7,
   "metadata": {},
   "outputs": [
    {
     "name": "stdout",
     "output_type": "stream",
     "text": [
      "Administrative             0\n",
      "Administrative_Duration    0\n",
      "Informational              0\n",
      "Informational_Duration     0\n",
      "ProductRelated             0\n",
      "ProductRelated_Duration    0\n",
      "BounceRates                0\n",
      "ExitRates                  0\n",
      "PageValues                 0\n",
      "SpecialDay                 0\n",
      "Month                      0\n",
      "OperatingSystems           0\n",
      "Browser                    0\n",
      "Region                     0\n",
      "TrafficType                0\n",
      "VisitorType                0\n",
      "Weekend                    0\n",
      "Revenue                    0\n",
      "dtype: int64\n",
      "0\n"
     ]
    }
   ],
   "source": [
    "#Checking if null values are present\n",
    "print (osi.isna().sum())\n",
    "print (osi.isna().sum().sum())"
   ]
  },
  {
   "cell_type": "markdown",
   "metadata": {},
   "source": [
    "# Data Exploration"
   ]
  },
  {
   "cell_type": "code",
   "execution_count": 8,
   "metadata": {},
   "outputs": [
    {
     "data": {
      "text/html": [
       "<div>\n",
       "<style scoped>\n",
       "    .dataframe tbody tr th:only-of-type {\n",
       "        vertical-align: middle;\n",
       "    }\n",
       "\n",
       "    .dataframe tbody tr th {\n",
       "        vertical-align: top;\n",
       "    }\n",
       "\n",
       "    .dataframe thead th {\n",
       "        text-align: right;\n",
       "    }\n",
       "</style>\n",
       "<table border=\"1\" class=\"dataframe\">\n",
       "  <thead>\n",
       "    <tr style=\"text-align: right;\">\n",
       "      <th></th>\n",
       "      <th>count</th>\n",
       "      <th>mean</th>\n",
       "      <th>std</th>\n",
       "      <th>min</th>\n",
       "      <th>25%</th>\n",
       "      <th>50%</th>\n",
       "      <th>75%</th>\n",
       "      <th>max</th>\n",
       "    </tr>\n",
       "  </thead>\n",
       "  <tbody>\n",
       "    <tr>\n",
       "      <th>Administrative</th>\n",
       "      <td>12330.0</td>\n",
       "      <td>2.315166</td>\n",
       "      <td>3.321784</td>\n",
       "      <td>0.0</td>\n",
       "      <td>0.000000</td>\n",
       "      <td>1.000000</td>\n",
       "      <td>4.000000</td>\n",
       "      <td>27.000000</td>\n",
       "    </tr>\n",
       "    <tr>\n",
       "      <th>Administrative_Duration</th>\n",
       "      <td>12330.0</td>\n",
       "      <td>80.818611</td>\n",
       "      <td>176.779107</td>\n",
       "      <td>0.0</td>\n",
       "      <td>0.000000</td>\n",
       "      <td>7.500000</td>\n",
       "      <td>93.256250</td>\n",
       "      <td>3398.750000</td>\n",
       "    </tr>\n",
       "    <tr>\n",
       "      <th>Informational</th>\n",
       "      <td>12330.0</td>\n",
       "      <td>0.503569</td>\n",
       "      <td>1.270156</td>\n",
       "      <td>0.0</td>\n",
       "      <td>0.000000</td>\n",
       "      <td>0.000000</td>\n",
       "      <td>0.000000</td>\n",
       "      <td>24.000000</td>\n",
       "    </tr>\n",
       "    <tr>\n",
       "      <th>Informational_Duration</th>\n",
       "      <td>12330.0</td>\n",
       "      <td>34.472398</td>\n",
       "      <td>140.749294</td>\n",
       "      <td>0.0</td>\n",
       "      <td>0.000000</td>\n",
       "      <td>0.000000</td>\n",
       "      <td>0.000000</td>\n",
       "      <td>2549.375000</td>\n",
       "    </tr>\n",
       "    <tr>\n",
       "      <th>ProductRelated</th>\n",
       "      <td>12330.0</td>\n",
       "      <td>31.731468</td>\n",
       "      <td>44.475503</td>\n",
       "      <td>0.0</td>\n",
       "      <td>7.000000</td>\n",
       "      <td>18.000000</td>\n",
       "      <td>38.000000</td>\n",
       "      <td>705.000000</td>\n",
       "    </tr>\n",
       "    <tr>\n",
       "      <th>ProductRelated_Duration</th>\n",
       "      <td>12330.0</td>\n",
       "      <td>1194.746220</td>\n",
       "      <td>1913.669288</td>\n",
       "      <td>0.0</td>\n",
       "      <td>184.137500</td>\n",
       "      <td>598.936905</td>\n",
       "      <td>1464.157213</td>\n",
       "      <td>63973.522230</td>\n",
       "    </tr>\n",
       "    <tr>\n",
       "      <th>BounceRates</th>\n",
       "      <td>12330.0</td>\n",
       "      <td>0.022191</td>\n",
       "      <td>0.048488</td>\n",
       "      <td>0.0</td>\n",
       "      <td>0.000000</td>\n",
       "      <td>0.003112</td>\n",
       "      <td>0.016813</td>\n",
       "      <td>0.200000</td>\n",
       "    </tr>\n",
       "    <tr>\n",
       "      <th>ExitRates</th>\n",
       "      <td>12330.0</td>\n",
       "      <td>0.043073</td>\n",
       "      <td>0.048597</td>\n",
       "      <td>0.0</td>\n",
       "      <td>0.014286</td>\n",
       "      <td>0.025156</td>\n",
       "      <td>0.050000</td>\n",
       "      <td>0.200000</td>\n",
       "    </tr>\n",
       "    <tr>\n",
       "      <th>PageValues</th>\n",
       "      <td>12330.0</td>\n",
       "      <td>5.889258</td>\n",
       "      <td>18.568437</td>\n",
       "      <td>0.0</td>\n",
       "      <td>0.000000</td>\n",
       "      <td>0.000000</td>\n",
       "      <td>0.000000</td>\n",
       "      <td>361.763742</td>\n",
       "    </tr>\n",
       "    <tr>\n",
       "      <th>SpecialDay</th>\n",
       "      <td>12330.0</td>\n",
       "      <td>0.061427</td>\n",
       "      <td>0.198917</td>\n",
       "      <td>0.0</td>\n",
       "      <td>0.000000</td>\n",
       "      <td>0.000000</td>\n",
       "      <td>0.000000</td>\n",
       "      <td>1.000000</td>\n",
       "    </tr>\n",
       "    <tr>\n",
       "      <th>OperatingSystems</th>\n",
       "      <td>12330.0</td>\n",
       "      <td>2.124006</td>\n",
       "      <td>0.911325</td>\n",
       "      <td>1.0</td>\n",
       "      <td>2.000000</td>\n",
       "      <td>2.000000</td>\n",
       "      <td>3.000000</td>\n",
       "      <td>8.000000</td>\n",
       "    </tr>\n",
       "    <tr>\n",
       "      <th>Browser</th>\n",
       "      <td>12330.0</td>\n",
       "      <td>2.357097</td>\n",
       "      <td>1.717277</td>\n",
       "      <td>1.0</td>\n",
       "      <td>2.000000</td>\n",
       "      <td>2.000000</td>\n",
       "      <td>2.000000</td>\n",
       "      <td>13.000000</td>\n",
       "    </tr>\n",
       "    <tr>\n",
       "      <th>Region</th>\n",
       "      <td>12330.0</td>\n",
       "      <td>3.147364</td>\n",
       "      <td>2.401591</td>\n",
       "      <td>1.0</td>\n",
       "      <td>1.000000</td>\n",
       "      <td>3.000000</td>\n",
       "      <td>4.000000</td>\n",
       "      <td>9.000000</td>\n",
       "    </tr>\n",
       "    <tr>\n",
       "      <th>TrafficType</th>\n",
       "      <td>12330.0</td>\n",
       "      <td>4.069586</td>\n",
       "      <td>4.025169</td>\n",
       "      <td>1.0</td>\n",
       "      <td>2.000000</td>\n",
       "      <td>2.000000</td>\n",
       "      <td>4.000000</td>\n",
       "      <td>20.000000</td>\n",
       "    </tr>\n",
       "  </tbody>\n",
       "</table>\n",
       "</div>"
      ],
      "text/plain": [
       "                           count         mean          std  min         25%  \\\n",
       "Administrative           12330.0     2.315166     3.321784  0.0    0.000000   \n",
       "Administrative_Duration  12330.0    80.818611   176.779107  0.0    0.000000   \n",
       "Informational            12330.0     0.503569     1.270156  0.0    0.000000   \n",
       "Informational_Duration   12330.0    34.472398   140.749294  0.0    0.000000   \n",
       "ProductRelated           12330.0    31.731468    44.475503  0.0    7.000000   \n",
       "ProductRelated_Duration  12330.0  1194.746220  1913.669288  0.0  184.137500   \n",
       "BounceRates              12330.0     0.022191     0.048488  0.0    0.000000   \n",
       "ExitRates                12330.0     0.043073     0.048597  0.0    0.014286   \n",
       "PageValues               12330.0     5.889258    18.568437  0.0    0.000000   \n",
       "SpecialDay               12330.0     0.061427     0.198917  0.0    0.000000   \n",
       "OperatingSystems         12330.0     2.124006     0.911325  1.0    2.000000   \n",
       "Browser                  12330.0     2.357097     1.717277  1.0    2.000000   \n",
       "Region                   12330.0     3.147364     2.401591  1.0    1.000000   \n",
       "TrafficType              12330.0     4.069586     4.025169  1.0    2.000000   \n",
       "\n",
       "                                50%          75%           max  \n",
       "Administrative             1.000000     4.000000     27.000000  \n",
       "Administrative_Duration    7.500000    93.256250   3398.750000  \n",
       "Informational              0.000000     0.000000     24.000000  \n",
       "Informational_Duration     0.000000     0.000000   2549.375000  \n",
       "ProductRelated            18.000000    38.000000    705.000000  \n",
       "ProductRelated_Duration  598.936905  1464.157213  63973.522230  \n",
       "BounceRates                0.003112     0.016813      0.200000  \n",
       "ExitRates                  0.025156     0.050000      0.200000  \n",
       "PageValues                 0.000000     0.000000    361.763742  \n",
       "SpecialDay                 0.000000     0.000000      1.000000  \n",
       "OperatingSystems           2.000000     3.000000      8.000000  \n",
       "Browser                    2.000000     2.000000     13.000000  \n",
       "Region                     3.000000     4.000000      9.000000  \n",
       "TrafficType                2.000000     4.000000     20.000000  "
      ]
     },
     "execution_count": 8,
     "metadata": {},
     "output_type": "execute_result"
    }
   ],
   "source": [
    "#Generates basic Descriptive Statistics\n",
    "osi.describe().T"
   ]
  },
  {
   "cell_type": "code",
   "execution_count": 9,
   "metadata": {},
   "outputs": [
    {
     "data": {
      "text/plain": [
       "Administrative               int64\n",
       "Administrative_Duration    float64\n",
       "Informational                int64\n",
       "Informational_Duration     float64\n",
       "ProductRelated               int64\n",
       "ProductRelated_Duration    float64\n",
       "BounceRates                float64\n",
       "ExitRates                  float64\n",
       "PageValues                 float64\n",
       "SpecialDay                 float64\n",
       "Month                       object\n",
       "OperatingSystems             int64\n",
       "Browser                      int64\n",
       "Region                       int64\n",
       "TrafficType                  int64\n",
       "VisitorType                 object\n",
       "Weekend                       bool\n",
       "Revenue                       bool\n",
       "dtype: object"
      ]
     },
     "execution_count": 9,
     "metadata": {},
     "output_type": "execute_result"
    }
   ],
   "source": [
    "osi.dtypes"
   ]
  },
  {
   "cell_type": "code",
   "execution_count": 10,
   "metadata": {},
   "outputs": [],
   "source": [
    "#The categorical columns are converted to object data type\n",
    "osi['Administrative'] = osi['Administrative'].astype('float64')\n",
    "osi['Informational'] = osi['Informational'].astype('float64')\n",
    "osi['ProductRelated'] = osi['ProductRelated'].astype('float64')\n",
    "osi['SpecialDay'] = osi['SpecialDay'].astype('object')\n",
    "osi['OperatingSystems'] = osi['OperatingSystems'].astype('object')\n",
    "osi['Browser'] = osi['Browser'].astype('object')\n",
    "osi['Region'] = osi['Region'].astype('object')\n",
    "osi['TrafficType'] = osi['TrafficType'].astype('object')"
   ]
  },
  {
   "cell_type": "code",
   "execution_count": 11,
   "metadata": {},
   "outputs": [
    {
     "data": {
      "text/plain": [
       "Administrative             float64\n",
       "Administrative_Duration    float64\n",
       "Informational              float64\n",
       "Informational_Duration     float64\n",
       "ProductRelated             float64\n",
       "ProductRelated_Duration    float64\n",
       "BounceRates                float64\n",
       "ExitRates                  float64\n",
       "PageValues                 float64\n",
       "SpecialDay                  object\n",
       "Month                       object\n",
       "OperatingSystems            object\n",
       "Browser                     object\n",
       "Region                      object\n",
       "TrafficType                 object\n",
       "VisitorType                 object\n",
       "Weekend                       bool\n",
       "Revenue                       bool\n",
       "dtype: object"
      ]
     },
     "execution_count": 11,
     "metadata": {},
     "output_type": "execute_result"
    }
   ],
   "source": [
    "osi.dtypes"
   ]
  },
  {
   "cell_type": "code",
   "execution_count": 12,
   "metadata": {},
   "outputs": [
    {
     "data": {
      "text/plain": [
       "0.0    11079\n",
       "0.6      351\n",
       "0.8      325\n",
       "0.4      243\n",
       "0.2      178\n",
       "1.0      154\n",
       "Name: SpecialDay, dtype: int64"
      ]
     },
     "execution_count": 12,
     "metadata": {},
     "output_type": "execute_result"
    }
   ],
   "source": [
    "#Count of unique values in categorical columns is viewed\n",
    "osi['SpecialDay'].value_counts()"
   ]
  },
  {
   "cell_type": "code",
   "execution_count": 13,
   "metadata": {},
   "outputs": [
    {
     "data": {
      "text/plain": [
       "2    6601\n",
       "1    2585\n",
       "3    2555\n",
       "4     478\n",
       "8      79\n",
       "6      19\n",
       "7       7\n",
       "5       6\n",
       "Name: OperatingSystems, dtype: int64"
      ]
     },
     "execution_count": 13,
     "metadata": {},
     "output_type": "execute_result"
    }
   ],
   "source": [
    "osi['OperatingSystems'].value_counts()"
   ]
  },
  {
   "cell_type": "code",
   "execution_count": 14,
   "metadata": {},
   "outputs": [
    {
     "data": {
      "text/plain": [
       "2     7961\n",
       "1     2462\n",
       "4      736\n",
       "5      467\n",
       "6      174\n",
       "10     163\n",
       "8      135\n",
       "3      105\n",
       "13      61\n",
       "7       49\n",
       "12      10\n",
       "11       6\n",
       "9        1\n",
       "Name: Browser, dtype: int64"
      ]
     },
     "execution_count": 14,
     "metadata": {},
     "output_type": "execute_result"
    }
   ],
   "source": [
    "osi['Browser'].value_counts()"
   ]
  },
  {
   "cell_type": "code",
   "execution_count": 15,
   "metadata": {},
   "outputs": [
    {
     "data": {
      "text/plain": [
       "1    4780\n",
       "3    2403\n",
       "4    1182\n",
       "2    1136\n",
       "6     805\n",
       "7     761\n",
       "9     511\n",
       "8     434\n",
       "5     318\n",
       "Name: Region, dtype: int64"
      ]
     },
     "execution_count": 15,
     "metadata": {},
     "output_type": "execute_result"
    }
   ],
   "source": [
    "osi['Region'].value_counts()"
   ]
  },
  {
   "cell_type": "code",
   "execution_count": 16,
   "metadata": {},
   "outputs": [
    {
     "data": {
      "text/plain": [
       "2     3913\n",
       "1     2451\n",
       "3     2052\n",
       "4     1069\n",
       "13     738\n",
       "10     450\n",
       "6      444\n",
       "8      343\n",
       "5      260\n",
       "11     247\n",
       "20     198\n",
       "9       42\n",
       "7       40\n",
       "15      38\n",
       "19      17\n",
       "14      13\n",
       "18      10\n",
       "16       3\n",
       "12       1\n",
       "17       1\n",
       "Name: TrafficType, dtype: int64"
      ]
     },
     "execution_count": 16,
     "metadata": {},
     "output_type": "execute_result"
    }
   ],
   "source": [
    "osi['TrafficType'].value_counts()"
   ]
  },
  {
   "cell_type": "code",
   "execution_count": 17,
   "metadata": {},
   "outputs": [
    {
     "data": {
      "text/plain": [
       "Returning_Visitor    10551\n",
       "New_Visitor           1694\n",
       "Other                   85\n",
       "Name: VisitorType, dtype: int64"
      ]
     },
     "execution_count": 17,
     "metadata": {},
     "output_type": "execute_result"
    }
   ],
   "source": [
    "osi['VisitorType'].value_counts()"
   ]
  },
  {
   "cell_type": "code",
   "execution_count": 18,
   "metadata": {},
   "outputs": [
    {
     "data": {
      "text/plain": [
       "False    9462\n",
       "True     2868\n",
       "Name: Weekend, dtype: int64"
      ]
     },
     "execution_count": 18,
     "metadata": {},
     "output_type": "execute_result"
    }
   ],
   "source": [
    "osi['Weekend'].value_counts()"
   ]
  },
  {
   "cell_type": "code",
   "execution_count": 19,
   "metadata": {},
   "outputs": [
    {
     "data": {
      "text/plain": [
       "False    10422\n",
       "True      1908\n",
       "Name: Revenue, dtype: int64"
      ]
     },
     "execution_count": 19,
     "metadata": {},
     "output_type": "execute_result"
    }
   ],
   "source": [
    "osi['Revenue'].value_counts()"
   ]
  },
  {
   "cell_type": "markdown",
   "metadata": {},
   "source": [
    "#  Univariate Analysis"
   ]
  },
  {
   "cell_type": "code",
   "execution_count": 20,
   "metadata": {},
   "outputs": [
    {
     "data": {
      "image/png": "[encoded data removed]",
      "text/plain": [
       "<Figure size 432x288 with 1 Axes>"
      ]
     },
     "metadata": {
      "needs_background": "light"
     },
     "output_type": "display_data"
    }
   ],
   "source": [
    "#Using countplot we can see the count of each value in bar graph\n",
    "sns.countplot(osi.Revenue, palette = 'deep')\n",
    "plt.show()"
   ]
  },
  {
   "cell_type": "code",
   "execution_count": 21,
   "metadata": {},
   "outputs": [
    {
     "data": {
      "image/png": "[encoded data removed]",
      "text/plain": [
       "<Figure size 432x288 with 1 Axes>"
      ]
     },
     "metadata": {},
     "output_type": "display_data"
    }
   ],
   "source": [
    "#Pie chart shows the percentage of the each value in the Revenue\n",
    "Revlabel = ['False', 'True']\n",
    "colors = ['lightskyblue', 'red']\n",
    "explode =(0,0.1)\n",
    "plt.title(\"Revenue\")\n",
    "plt.pie(osi.Revenue.value_counts(), labels = Revlabel, autopct = '%.4f%%', colors = colors, explode = explode)\n",
    "plt.legend()\n",
    "plt.show()"
   ]
  },
  {
   "cell_type": "code",
   "execution_count": 22,
   "metadata": {},
   "outputs": [
    {
     "data": {
      "image/png": "[encoded data removed]",
      "text/plain": [
       "<Figure size 432x288 with 1 Axes>"
      ]
     },
     "metadata": {
      "needs_background": "light"
     },
     "output_type": "display_data"
    }
   ],
   "source": [
    "sns.countplot(osi.VisitorType, palette = 'deep')\n",
    "plt.show()"
   ]
  },
  {
   "cell_type": "code",
   "execution_count": 23,
   "metadata": {},
   "outputs": [
    {
     "data": {
      "image/png": "[encoded data removed]",
      "text/plain": [
       "<Figure size 432x288 with 1 Axes>"
      ]
     },
     "metadata": {
      "needs_background": "light"
     },
     "output_type": "display_data"
    }
   ],
   "source": [
    "sns.countplot(osi.Region, palette = 'deep')\n",
    "plt.show()"
   ]
  },
  {
   "cell_type": "code",
   "execution_count": 24,
   "metadata": {},
   "outputs": [
    {
     "data": {
      "image/png": "[encoded data removed]",
      "text/plain": [
       "<Figure size 432x288 with 1 Axes>"
      ]
     },
     "metadata": {
      "needs_background": "light"
     },
     "output_type": "display_data"
    }
   ],
   "source": [
    "#In this countplot based on legend 'Revenue', values are displayed\n",
    "sns.countplot(osi.OperatingSystems, hue = osi.Revenue, palette = 'deep')\n",
    "plt.show()"
   ]
  },
  {
   "cell_type": "code",
   "execution_count": 25,
   "metadata": {},
   "outputs": [
    {
     "data": {
      "image/png": "[encoded data removed]",
      "text/plain": [
       "<Figure size 432x288 with 1 Axes>"
      ]
     },
     "metadata": {
      "needs_background": "light"
     },
     "output_type": "display_data"
    }
   ],
   "source": [
    "sns.countplot(osi.Region, hue = osi.Revenue, palette = 'deep')\n",
    "plt.show()"
   ]
  },
  {
   "cell_type": "code",
   "execution_count": 26,
   "metadata": {},
   "outputs": [
    {
     "data": {
      "image/png": "[encoded data removed]",
      "text/plain": [
       "<Figure size 432x288 with 1 Axes>"
      ]
     },
     "metadata": {
      "needs_background": "light"
     },
     "output_type": "display_data"
    }
   ],
   "source": [
    "sns.countplot(osi.Weekend, hue = osi.Revenue, palette = 'GnBu_d')\n",
    "plt.show()"
   ]
  },
  {
   "cell_type": "code",
   "execution_count": 27,
   "metadata": {},
   "outputs": [
    {
     "data": {
      "image/png": "[encoded data removed]",
      "text/plain": [
       "<Figure size 432x288 with 1 Axes>"
      ]
     },
     "metadata": {
      "needs_background": "light"
     },
     "output_type": "display_data"
    }
   ],
   "source": [
    "sns.countplot(osi.SpecialDay, hue = osi.Revenue, palette = 'deep')\n",
    "plt.show()"
   ]
  },
  {
   "cell_type": "code",
   "execution_count": 28,
   "metadata": {},
   "outputs": [
    {
     "data": {
      "image/png": "[encoded data removed]",
      "text/plain": [
       "<Figure size 720x432 with 1 Axes>"
      ]
     },
     "metadata": {
      "needs_background": "light"
     },
     "output_type": "display_data"
    }
   ],
   "source": [
    "plt.figure(figsize=(10,6))\n",
    "sns.countplot(osi.TrafficType, hue = osi.Revenue, palette = 'deep')\n",
    "plt.show()"
   ]
  },
  {
   "cell_type": "code",
   "execution_count": 29,
   "metadata": {},
   "outputs": [
    {
     "data": {
      "image/png": "[encoded data removed]",
      "text/plain": [
       "<Figure size 720x432 with 1 Axes>"
      ]
     },
     "metadata": {
      "needs_background": "light"
     },
     "output_type": "display_data"
    }
   ],
   "source": [
    "plt.figure(figsize=(10,6))\n",
    "sns.countplot(osi.Browser, hue = osi.Revenue, palette = 'deep')\n",
    "plt.show()"
   ]
  },
  {
   "cell_type": "code",
   "execution_count": 30,
   "metadata": {},
   "outputs": [
    {
     "data": {
      "image/png": "[encoded data removed]",
      "text/plain": [
       "<Figure size 432x288 with 1 Axes>"
      ]
     },
     "metadata": {
      "needs_background": "light"
     },
     "output_type": "display_data"
    }
   ],
   "source": [
    "# Average Daily transaction on Weekdays VS. on Weekends\n",
    "\n",
    "weekend_revenue_avg = osi.query('Weekend == True & Revenue == True')['Revenue'].count()/2\n",
    "weekday_revenue_avg = osi.query('Weekend == False & Revenue == True')['Revenue'].count()/5\n",
    "\n",
    "b=[weekday_revenue_avg, weekend_revenue_avg]\n",
    "a=[j for j in range(len(b))]\n",
    "\n",
    "bars = plt.bar(a, height=b, width=.7, color=['lightblue', 'lightgreen'])\n",
    "\n",
    "xlocs, xlabs = plt.xticks()\n",
    "\n",
    "xlocs=[j for j in a]\n",
    "xlabs=[j for j in b]\n",
    "\n",
    "plt.title('More daily purchase/transaction happen on weekdays or weedends?', color='black', fontsize=16)\n",
    "plt.xlabel('Transaction On', color='black', fontsize=14)\n",
    "plt.ylabel('Average Transaction', color='black', fontsize=14)\n",
    "plt.xticks(xlocs, ('Weekday', 'Weekend'))\n",
    "\n",
    "for bar in bars:\n",
    "    yval = bar.get_height()\n",
    "    plt.text(bar.get_x()+0.22, yval-30, yval, fontsize=15, color='white', fontweight='bold')\n",
    "    \n",
    "plt.show()"
   ]
  },
  {
   "cell_type": "markdown",
   "metadata": {},
   "source": [
    "# Data Preparation for Modelling"
   ]
  },
  {
   "cell_type": "code",
   "execution_count": 31,
   "metadata": {},
   "outputs": [],
   "source": [
    "#Bool values of Weekend and Revenue are converted to '0 and 1'\n",
    "osi2 = osi\n",
    "osi2.Weekend = osi2.Weekend.replace({True: 1, False: 0})\n",
    "osi2.Revenue = osi2.Revenue.replace({True: 1, False: 0})"
   ]
  },
  {
   "cell_type": "code",
   "execution_count": 32,
   "metadata": {},
   "outputs": [
    {
     "data": {
      "text/plain": [
       "array([0, 1], dtype=int64)"
      ]
     },
     "execution_count": 32,
     "metadata": {},
     "output_type": "execute_result"
    }
   ],
   "source": [
    "osi2.Weekend.unique()"
   ]
  },
  {
   "cell_type": "code",
   "execution_count": 33,
   "metadata": {},
   "outputs": [
    {
     "data": {
      "text/plain": [
       "array([0, 1], dtype=int64)"
      ]
     },
     "execution_count": 33,
     "metadata": {},
     "output_type": "execute_result"
    }
   ],
   "source": [
    "osi2.Revenue.unique()"
   ]
  },
  {
   "cell_type": "code",
   "execution_count": 34,
   "metadata": {},
   "outputs": [],
   "source": [
    "#Taking the dummy values into columns for Visitor type and dropping the Visitor Type column\n",
    "dummy1 = pd.get_dummies(osi2['VisitorType'],drop_first=True) \n",
    "osi2 = pd.concat([osi2.drop('VisitorType', axis=1), dummy1],axis=1) \n",
    "osi2 = osi2.drop('Other',axis=1)"
   ]
  },
  {
   "cell_type": "code",
   "execution_count": 35,
   "metadata": {},
   "outputs": [
    {
     "data": {
      "text/html": [
       "<div>\n",
       "<style scoped>\n",
       "    .dataframe tbody tr th:only-of-type {\n",
       "        vertical-align: middle;\n",
       "    }\n",
       "\n",
       "    .dataframe tbody tr th {\n",
       "        vertical-align: top;\n",
       "    }\n",
       "\n",
       "    .dataframe thead th {\n",
       "        text-align: right;\n",
       "    }\n",
       "</style>\n",
       "<table border=\"1\" class=\"dataframe\">\n",
       "  <thead>\n",
       "    <tr style=\"text-align: right;\">\n",
       "      <th></th>\n",
       "      <th>Administrative</th>\n",
       "      <th>Administrative_Duration</th>\n",
       "      <th>Informational</th>\n",
       "      <th>Informational_Duration</th>\n",
       "      <th>ProductRelated</th>\n",
       "      <th>ProductRelated_Duration</th>\n",
       "      <th>BounceRates</th>\n",
       "      <th>ExitRates</th>\n",
       "      <th>PageValues</th>\n",
       "      <th>SpecialDay</th>\n",
       "      <th>Month</th>\n",
       "      <th>OperatingSystems</th>\n",
       "      <th>Browser</th>\n",
       "      <th>Region</th>\n",
       "      <th>TrafficType</th>\n",
       "      <th>Weekend</th>\n",
       "      <th>Revenue</th>\n",
       "      <th>Returning_Visitor</th>\n",
       "    </tr>\n",
       "  </thead>\n",
       "  <tbody>\n",
       "    <tr>\n",
       "      <th>0</th>\n",
       "      <td>0.0</td>\n",
       "      <td>0.0</td>\n",
       "      <td>0.0</td>\n",
       "      <td>0.0</td>\n",
       "      <td>1.0</td>\n",
       "      <td>0.000000</td>\n",
       "      <td>0.20</td>\n",
       "      <td>0.20</td>\n",
       "      <td>0.0</td>\n",
       "      <td>0</td>\n",
       "      <td>Feb</td>\n",
       "      <td>1</td>\n",
       "      <td>1</td>\n",
       "      <td>1</td>\n",
       "      <td>1</td>\n",
       "      <td>0</td>\n",
       "      <td>0</td>\n",
       "      <td>1</td>\n",
       "    </tr>\n",
       "    <tr>\n",
       "      <th>1</th>\n",
       "      <td>0.0</td>\n",
       "      <td>0.0</td>\n",
       "      <td>0.0</td>\n",
       "      <td>0.0</td>\n",
       "      <td>2.0</td>\n",
       "      <td>64.000000</td>\n",
       "      <td>0.00</td>\n",
       "      <td>0.10</td>\n",
       "      <td>0.0</td>\n",
       "      <td>0</td>\n",
       "      <td>Feb</td>\n",
       "      <td>2</td>\n",
       "      <td>2</td>\n",
       "      <td>1</td>\n",
       "      <td>2</td>\n",
       "      <td>0</td>\n",
       "      <td>0</td>\n",
       "      <td>1</td>\n",
       "    </tr>\n",
       "    <tr>\n",
       "      <th>2</th>\n",
       "      <td>0.0</td>\n",
       "      <td>0.0</td>\n",
       "      <td>0.0</td>\n",
       "      <td>0.0</td>\n",
       "      <td>1.0</td>\n",
       "      <td>0.000000</td>\n",
       "      <td>0.20</td>\n",
       "      <td>0.20</td>\n",
       "      <td>0.0</td>\n",
       "      <td>0</td>\n",
       "      <td>Feb</td>\n",
       "      <td>4</td>\n",
       "      <td>1</td>\n",
       "      <td>9</td>\n",
       "      <td>3</td>\n",
       "      <td>0</td>\n",
       "      <td>0</td>\n",
       "      <td>1</td>\n",
       "    </tr>\n",
       "    <tr>\n",
       "      <th>3</th>\n",
       "      <td>0.0</td>\n",
       "      <td>0.0</td>\n",
       "      <td>0.0</td>\n",
       "      <td>0.0</td>\n",
       "      <td>2.0</td>\n",
       "      <td>2.666667</td>\n",
       "      <td>0.05</td>\n",
       "      <td>0.14</td>\n",
       "      <td>0.0</td>\n",
       "      <td>0</td>\n",
       "      <td>Feb</td>\n",
       "      <td>3</td>\n",
       "      <td>2</td>\n",
       "      <td>2</td>\n",
       "      <td>4</td>\n",
       "      <td>0</td>\n",
       "      <td>0</td>\n",
       "      <td>1</td>\n",
       "    </tr>\n",
       "    <tr>\n",
       "      <th>4</th>\n",
       "      <td>0.0</td>\n",
       "      <td>0.0</td>\n",
       "      <td>0.0</td>\n",
       "      <td>0.0</td>\n",
       "      <td>10.0</td>\n",
       "      <td>627.500000</td>\n",
       "      <td>0.02</td>\n",
       "      <td>0.05</td>\n",
       "      <td>0.0</td>\n",
       "      <td>0</td>\n",
       "      <td>Feb</td>\n",
       "      <td>3</td>\n",
       "      <td>3</td>\n",
       "      <td>1</td>\n",
       "      <td>4</td>\n",
       "      <td>1</td>\n",
       "      <td>0</td>\n",
       "      <td>1</td>\n",
       "    </tr>\n",
       "  </tbody>\n",
       "</table>\n",
       "</div>"
      ],
      "text/plain": [
       "   Administrative  Administrative_Duration  Informational  \\\n",
       "0             0.0                      0.0            0.0   \n",
       "1             0.0                      0.0            0.0   \n",
       "2             0.0                      0.0            0.0   \n",
       "3             0.0                      0.0            0.0   \n",
       "4             0.0                      0.0            0.0   \n",
       "\n",
       "   Informational_Duration  ProductRelated  ProductRelated_Duration  \\\n",
       "0                     0.0             1.0                 0.000000   \n",
       "1                     0.0             2.0                64.000000   \n",
       "2                     0.0             1.0                 0.000000   \n",
       "3                     0.0             2.0                 2.666667   \n",
       "4                     0.0            10.0               627.500000   \n",
       "\n",
       "   BounceRates  ExitRates  PageValues SpecialDay Month OperatingSystems  \\\n",
       "0         0.20       0.20         0.0          0   Feb                1   \n",
       "1         0.00       0.10         0.0          0   Feb                2   \n",
       "2         0.20       0.20         0.0          0   Feb                4   \n",
       "3         0.05       0.14         0.0          0   Feb                3   \n",
       "4         0.02       0.05         0.0          0   Feb                3   \n",
       "\n",
       "  Browser Region TrafficType  Weekend  Revenue  Returning_Visitor  \n",
       "0       1      1           1        0        0                  1  \n",
       "1       2      1           2        0        0                  1  \n",
       "2       1      9           3        0        0                  1  \n",
       "3       2      2           4        0        0                  1  \n",
       "4       3      1           4        1        0                  1  "
      ]
     },
     "execution_count": 35,
     "metadata": {},
     "output_type": "execute_result"
    }
   ],
   "source": [
    "osi2.head()"
   ]
  },
  {
   "cell_type": "code",
   "execution_count": 36,
   "metadata": {},
   "outputs": [
    {
     "data": {
      "text/plain": [
       "array([1, 0], dtype=uint8)"
      ]
     },
     "execution_count": 36,
     "metadata": {},
     "output_type": "execute_result"
    }
   ],
   "source": [
    "osi2.Returning_Visitor.unique()"
   ]
  },
  {
   "cell_type": "code",
   "execution_count": 37,
   "metadata": {},
   "outputs": [
    {
     "data": {
      "text/plain": [
       "array(['Feb', 'Mar', 'May', 'Oct', 'June', 'Jul', 'Aug', 'Nov', 'Sep',\n",
       "       'Dec'], dtype=object)"
      ]
     },
     "execution_count": 37,
     "metadata": {},
     "output_type": "execute_result"
    }
   ],
   "source": [
    "#Chaning the month names to their number\n",
    "osi2.Month.unique()"
   ]
  },
  {
   "cell_type": "code",
   "execution_count": 38,
   "metadata": {},
   "outputs": [],
   "source": [
    "osi2['Month'] = osi2['Month'].map({'Feb':2,'Mar':3,'May':5,'Oct':10,'June':6,'Jul':7,'Aug':8,'Nov':11,'Sep':9,'Dec':12})"
   ]
  },
  {
   "cell_type": "code",
   "execution_count": 39,
   "metadata": {},
   "outputs": [
    {
     "data": {
      "text/plain": [
       "array([ 2,  3,  5, 10,  6,  7,  8, 11,  9, 12], dtype=int64)"
      ]
     },
     "execution_count": 39,
     "metadata": {},
     "output_type": "execute_result"
    }
   ],
   "source": [
    "osi2.Month.unique()"
   ]
  },
  {
   "cell_type": "code",
   "execution_count": 40,
   "metadata": {},
   "outputs": [
    {
     "data": {
      "text/html": [
       "<div>\n",
       "<style scoped>\n",
       "    .dataframe tbody tr th:only-of-type {\n",
       "        vertical-align: middle;\n",
       "    }\n",
       "\n",
       "    .dataframe tbody tr th {\n",
       "        vertical-align: top;\n",
       "    }\n",
       "\n",
       "    .dataframe thead th {\n",
       "        text-align: right;\n",
       "    }\n",
       "</style>\n",
       "<table border=\"1\" class=\"dataframe\">\n",
       "  <thead>\n",
       "    <tr style=\"text-align: right;\">\n",
       "      <th></th>\n",
       "      <th>Administrative</th>\n",
       "      <th>Administrative_Duration</th>\n",
       "      <th>Informational</th>\n",
       "      <th>Informational_Duration</th>\n",
       "      <th>ProductRelated</th>\n",
       "      <th>ProductRelated_Duration</th>\n",
       "      <th>BounceRates</th>\n",
       "      <th>ExitRates</th>\n",
       "      <th>PageValues</th>\n",
       "      <th>Month</th>\n",
       "      <th>Weekend</th>\n",
       "      <th>Revenue</th>\n",
       "      <th>Returning_Visitor</th>\n",
       "    </tr>\n",
       "  </thead>\n",
       "  <tbody>\n",
       "    <tr>\n",
       "      <th>count</th>\n",
       "      <td>12330.000000</td>\n",
       "      <td>12330.000000</td>\n",
       "      <td>12330.000000</td>\n",
       "      <td>12330.000000</td>\n",
       "      <td>12330.000000</td>\n",
       "      <td>12330.000000</td>\n",
       "      <td>12330.000000</td>\n",
       "      <td>12330.000000</td>\n",
       "      <td>12330.000000</td>\n",
       "      <td>12330.000000</td>\n",
       "      <td>12330.000000</td>\n",
       "      <td>12330.000000</td>\n",
       "      <td>12330.000000</td>\n",
       "    </tr>\n",
       "    <tr>\n",
       "      <th>mean</th>\n",
       "      <td>2.315166</td>\n",
       "      <td>80.818611</td>\n",
       "      <td>0.503569</td>\n",
       "      <td>34.472398</td>\n",
       "      <td>31.731468</td>\n",
       "      <td>1194.746220</td>\n",
       "      <td>0.022191</td>\n",
       "      <td>0.043073</td>\n",
       "      <td>5.889258</td>\n",
       "      <td>7.651987</td>\n",
       "      <td>0.232603</td>\n",
       "      <td>0.154745</td>\n",
       "      <td>0.855718</td>\n",
       "    </tr>\n",
       "    <tr>\n",
       "      <th>std</th>\n",
       "      <td>3.321784</td>\n",
       "      <td>176.779107</td>\n",
       "      <td>1.270156</td>\n",
       "      <td>140.749294</td>\n",
       "      <td>44.475503</td>\n",
       "      <td>1913.669288</td>\n",
       "      <td>0.048488</td>\n",
       "      <td>0.048597</td>\n",
       "      <td>18.568437</td>\n",
       "      <td>3.392841</td>\n",
       "      <td>0.422509</td>\n",
       "      <td>0.361676</td>\n",
       "      <td>0.351390</td>\n",
       "    </tr>\n",
       "    <tr>\n",
       "      <th>min</th>\n",
       "      <td>0.000000</td>\n",
       "      <td>0.000000</td>\n",
       "      <td>0.000000</td>\n",
       "      <td>0.000000</td>\n",
       "      <td>0.000000</td>\n",
       "      <td>0.000000</td>\n",
       "      <td>0.000000</td>\n",
       "      <td>0.000000</td>\n",
       "      <td>0.000000</td>\n",
       "      <td>2.000000</td>\n",
       "      <td>0.000000</td>\n",
       "      <td>0.000000</td>\n",
       "      <td>0.000000</td>\n",
       "    </tr>\n",
       "    <tr>\n",
       "      <th>25%</th>\n",
       "      <td>0.000000</td>\n",
       "      <td>0.000000</td>\n",
       "      <td>0.000000</td>\n",
       "      <td>0.000000</td>\n",
       "      <td>7.000000</td>\n",
       "      <td>184.137500</td>\n",
       "      <td>0.000000</td>\n",
       "      <td>0.014286</td>\n",
       "      <td>0.000000</td>\n",
       "      <td>5.000000</td>\n",
       "      <td>0.000000</td>\n",
       "      <td>0.000000</td>\n",
       "      <td>1.000000</td>\n",
       "    </tr>\n",
       "    <tr>\n",
       "      <th>50%</th>\n",
       "      <td>1.000000</td>\n",
       "      <td>7.500000</td>\n",
       "      <td>0.000000</td>\n",
       "      <td>0.000000</td>\n",
       "      <td>18.000000</td>\n",
       "      <td>598.936905</td>\n",
       "      <td>0.003112</td>\n",
       "      <td>0.025156</td>\n",
       "      <td>0.000000</td>\n",
       "      <td>7.000000</td>\n",
       "      <td>0.000000</td>\n",
       "      <td>0.000000</td>\n",
       "      <td>1.000000</td>\n",
       "    </tr>\n",
       "    <tr>\n",
       "      <th>75%</th>\n",
       "      <td>4.000000</td>\n",
       "      <td>93.256250</td>\n",
       "      <td>0.000000</td>\n",
       "      <td>0.000000</td>\n",
       "      <td>38.000000</td>\n",
       "      <td>1464.157213</td>\n",
       "      <td>0.016813</td>\n",
       "      <td>0.050000</td>\n",
       "      <td>0.000000</td>\n",
       "      <td>11.000000</td>\n",
       "      <td>0.000000</td>\n",
       "      <td>0.000000</td>\n",
       "      <td>1.000000</td>\n",
       "    </tr>\n",
       "    <tr>\n",
       "      <th>max</th>\n",
       "      <td>27.000000</td>\n",
       "      <td>3398.750000</td>\n",
       "      <td>24.000000</td>\n",
       "      <td>2549.375000</td>\n",
       "      <td>705.000000</td>\n",
       "      <td>63973.522230</td>\n",
       "      <td>0.200000</td>\n",
       "      <td>0.200000</td>\n",
       "      <td>361.763742</td>\n",
       "      <td>12.000000</td>\n",
       "      <td>1.000000</td>\n",
       "      <td>1.000000</td>\n",
       "      <td>1.000000</td>\n",
       "    </tr>\n",
       "  </tbody>\n",
       "</table>\n",
       "</div>"
      ],
      "text/plain": [
       "       Administrative  Administrative_Duration  Informational  \\\n",
       "count    12330.000000             12330.000000   12330.000000   \n",
       "mean         2.315166                80.818611       0.503569   \n",
       "std          3.321784               176.779107       1.270156   \n",
       "min          0.000000                 0.000000       0.000000   \n",
       "25%          0.000000                 0.000000       0.000000   \n",
       "50%          1.000000                 7.500000       0.000000   \n",
       "75%          4.000000                93.256250       0.000000   \n",
       "max         27.000000              3398.750000      24.000000   \n",
       "\n",
       "       Informational_Duration  ProductRelated  ProductRelated_Duration  \\\n",
       "count            12330.000000    12330.000000             12330.000000   \n",
       "mean                34.472398       31.731468              1194.746220   \n",
       "std                140.749294       44.475503              1913.669288   \n",
       "min                  0.000000        0.000000                 0.000000   \n",
       "25%                  0.000000        7.000000               184.137500   \n",
       "50%                  0.000000       18.000000               598.936905   \n",
       "75%                  0.000000       38.000000              1464.157213   \n",
       "max               2549.375000      705.000000             63973.522230   \n",
       "\n",
       "        BounceRates     ExitRates    PageValues         Month       Weekend  \\\n",
       "count  12330.000000  12330.000000  12330.000000  12330.000000  12330.000000   \n",
       "mean       0.022191      0.043073      5.889258      7.651987      0.232603   \n",
       "std        0.048488      0.048597     18.568437      3.392841      0.422509   \n",
       "min        0.000000      0.000000      0.000000      2.000000      0.000000   \n",
       "25%        0.000000      0.014286      0.000000      5.000000      0.000000   \n",
       "50%        0.003112      0.025156      0.000000      7.000000      0.000000   \n",
       "75%        0.016813      0.050000      0.000000     11.000000      0.000000   \n",
       "max        0.200000      0.200000    361.763742     12.000000      1.000000   \n",
       "\n",
       "            Revenue  Returning_Visitor  \n",
       "count  12330.000000       12330.000000  \n",
       "mean       0.154745           0.855718  \n",
       "std        0.361676           0.351390  \n",
       "min        0.000000           0.000000  \n",
       "25%        0.000000           1.000000  \n",
       "50%        0.000000           1.000000  \n",
       "75%        0.000000           1.000000  \n",
       "max        1.000000           1.000000  "
      ]
     },
     "execution_count": 40,
     "metadata": {},
     "output_type": "execute_result"
    }
   ],
   "source": [
    "#Basic Descriptive Statistics after prepping the data\n",
    "osi2.describe()"
   ]
  },
  {
   "cell_type": "code",
   "execution_count": 41,
   "metadata": {},
   "outputs": [],
   "source": [
    "#Taking target column and others separately \n",
    "x2 = osi2\n",
    "x2 = x2.drop(['Revenue'], axis = 1)\n",
    "y2 = osi2['Revenue']"
   ]
  },
  {
   "cell_type": "markdown",
   "metadata": {},
   "source": [
    "# Feature Importance"
   ]
  },
  {
   "cell_type": "code",
   "execution_count": 42,
   "metadata": {},
   "outputs": [
    {
     "name": "stdout",
     "output_type": "stream",
     "text": [
      "[0.05123009 0.04734514 0.02893666 0.02872102 0.06584826 0.0658775\n",
      " 0.0534374  0.07655382 0.34749543 0.00611457 0.05165111 0.03170629\n",
      " 0.03100382 0.04356838 0.04279999 0.01570192 0.0120086 ]\n"
     ]
    },
    {
     "data": {
      "image/png": "[encoded data removed]",
      "text/plain": [
       "<Figure size 1440x720 with 1 Axes>"
      ]
     },
     "metadata": {
      "needs_background": "light"
     },
     "output_type": "display_data"
    }
   ],
   "source": [
    "#Using Extra Tree Classifier to find the important attributes or features contributing to the Revenue\n",
    "model = ExtraTreesClassifier()\n",
    "model.fit(x2,y2)\n",
    "print(model.feature_importances_)\n",
    "feat_importances = pd.Series(model.feature_importances_, index=x2.columns)\n",
    "feat_importances.nlargest(20).sort_values(ascending=True).plot(kind='barh',figsize=(20, 10))\n",
    "plt.show()"
   ]
  },
  {
   "cell_type": "markdown",
   "metadata": {},
   "source": [
    "## Correlation Matrix"
   ]
  },
  {
   "cell_type": "code",
   "execution_count": 43,
   "metadata": {},
   "outputs": [
    {
     "data": {
      "text/html": [
       "<style  type=\"text/css\" >\n",
       "    #T_55f55fad_2982_11eb_a2f8_c0b5d7b1f7f0row0_col0 {\n",
       "            background-color:  #fde725;\n",
       "            color:  #000000;\n",
       "        }    #T_55f55fad_2982_11eb_a2f8_c0b5d7b1f7f0row0_col1 {\n",
       "            background-color:  #37b878;\n",
       "            color:  #000000;\n",
       "        }    #T_55f55fad_2982_11eb_a2f8_c0b5d7b1f7f0row0_col2 {\n",
       "            background-color:  #24878e;\n",
       "            color:  #000000;\n",
       "        }    #T_55f55fad_2982_11eb_a2f8_c0b5d7b1f7f0row0_col3 {\n",
       "            background-color:  #31668e;\n",
       "            color:  #f1f1f1;\n",
       "        }    #T_55f55fad_2982_11eb_a2f8_c0b5d7b1f7f0row0_col4 {\n",
       "            background-color:  #1f9f88;\n",
       "            color:  #000000;\n",
       "        }    #T_55f55fad_2982_11eb_a2f8_c0b5d7b1f7f0row0_col5 {\n",
       "            background-color:  #21908d;\n",
       "            color:  #000000;\n",
       "        }    #T_55f55fad_2982_11eb_a2f8_c0b5d7b1f7f0row0_col6 {\n",
       "            background-color:  #440154;\n",
       "            color:  #f1f1f1;\n",
       "        }    #T_55f55fad_2982_11eb_a2f8_c0b5d7b1f7f0row0_col7 {\n",
       "            background-color:  #440154;\n",
       "            color:  #f1f1f1;\n",
       "        }    #T_55f55fad_2982_11eb_a2f8_c0b5d7b1f7f0row0_col8 {\n",
       "            background-color:  #3d4d8a;\n",
       "            color:  #f1f1f1;\n",
       "        }    #T_55f55fad_2982_11eb_a2f8_c0b5d7b1f7f0row0_col9 {\n",
       "            background-color:  #424086;\n",
       "            color:  #f1f1f1;\n",
       "        }    #T_55f55fad_2982_11eb_a2f8_c0b5d7b1f7f0row0_col10 {\n",
       "            background-color:  #481f70;\n",
       "            color:  #f1f1f1;\n",
       "        }    #T_55f55fad_2982_11eb_a2f8_c0b5d7b1f7f0row0_col11 {\n",
       "            background-color:  #365c8d;\n",
       "            color:  #f1f1f1;\n",
       "        }    #T_55f55fad_2982_11eb_a2f8_c0b5d7b1f7f0row0_col12 {\n",
       "            background-color:  #481f70;\n",
       "            color:  #f1f1f1;\n",
       "        }    #T_55f55fad_2982_11eb_a2f8_c0b5d7b1f7f0row1_col0 {\n",
       "            background-color:  #42be71;\n",
       "            color:  #000000;\n",
       "        }    #T_55f55fad_2982_11eb_a2f8_c0b5d7b1f7f0row1_col1 {\n",
       "            background-color:  #fde725;\n",
       "            color:  #000000;\n",
       "        }    #T_55f55fad_2982_11eb_a2f8_c0b5d7b1f7f0row1_col2 {\n",
       "            background-color:  #2a788e;\n",
       "            color:  #000000;\n",
       "        }    #T_55f55fad_2982_11eb_a2f8_c0b5d7b1f7f0row1_col3 {\n",
       "            background-color:  #33628d;\n",
       "            color:  #f1f1f1;\n",
       "        }    #T_55f55fad_2982_11eb_a2f8_c0b5d7b1f7f0row1_col4 {\n",
       "            background-color:  #25848e;\n",
       "            color:  #000000;\n",
       "        }    #T_55f55fad_2982_11eb_a2f8_c0b5d7b1f7f0row1_col5 {\n",
       "            background-color:  #228d8d;\n",
       "            color:  #000000;\n",
       "        }    #T_55f55fad_2982_11eb_a2f8_c0b5d7b1f7f0row1_col6 {\n",
       "            background-color:  #48186a;\n",
       "            color:  #f1f1f1;\n",
       "        }    #T_55f55fad_2982_11eb_a2f8_c0b5d7b1f7f0row1_col7 {\n",
       "            background-color:  #481f70;\n",
       "            color:  #f1f1f1;\n",
       "        }    #T_55f55fad_2982_11eb_a2f8_c0b5d7b1f7f0row1_col8 {\n",
       "            background-color:  #404588;\n",
       "            color:  #f1f1f1;\n",
       "        }    #T_55f55fad_2982_11eb_a2f8_c0b5d7b1f7f0row1_col9 {\n",
       "            background-color:  #453581;\n",
       "            color:  #f1f1f1;\n",
       "        }    #T_55f55fad_2982_11eb_a2f8_c0b5d7b1f7f0row1_col10 {\n",
       "            background-color:  #481b6d;\n",
       "            color:  #f1f1f1;\n",
       "        }    #T_55f55fad_2982_11eb_a2f8_c0b5d7b1f7f0row1_col11 {\n",
       "            background-color:  #3b518b;\n",
       "            color:  #f1f1f1;\n",
       "        }    #T_55f55fad_2982_11eb_a2f8_c0b5d7b1f7f0row1_col12 {\n",
       "            background-color:  #481f70;\n",
       "            color:  #f1f1f1;\n",
       "        }    #T_55f55fad_2982_11eb_a2f8_c0b5d7b1f7f0row2_col0 {\n",
       "            background-color:  #1f968b;\n",
       "            color:  #000000;\n",
       "        }    #T_55f55fad_2982_11eb_a2f8_c0b5d7b1f7f0row2_col1 {\n",
       "            background-color:  #287d8e;\n",
       "            color:  #000000;\n",
       "        }    #T_55f55fad_2982_11eb_a2f8_c0b5d7b1f7f0row2_col2 {\n",
       "            background-color:  #fde725;\n",
       "            color:  #000000;\n",
       "        }    #T_55f55fad_2982_11eb_a2f8_c0b5d7b1f7f0row2_col3 {\n",
       "            background-color:  #31b57b;\n",
       "            color:  #000000;\n",
       "        }    #T_55f55fad_2982_11eb_a2f8_c0b5d7b1f7f0row2_col4 {\n",
       "            background-color:  #1f948c;\n",
       "            color:  #000000;\n",
       "        }    #T_55f55fad_2982_11eb_a2f8_c0b5d7b1f7f0row2_col5 {\n",
       "            background-color:  #20928c;\n",
       "            color:  #000000;\n",
       "        }    #T_55f55fad_2982_11eb_a2f8_c0b5d7b1f7f0row2_col6 {\n",
       "            background-color:  #482071;\n",
       "            color:  #f1f1f1;\n",
       "        }    #T_55f55fad_2982_11eb_a2f8_c0b5d7b1f7f0row2_col7 {\n",
       "            background-color:  #482979;\n",
       "            color:  #f1f1f1;\n",
       "        }    #T_55f55fad_2982_11eb_a2f8_c0b5d7b1f7f0row2_col8 {\n",
       "            background-color:  #424086;\n",
       "            color:  #f1f1f1;\n",
       "        }    #T_55f55fad_2982_11eb_a2f8_c0b5d7b1f7f0row2_col9 {\n",
       "            background-color:  #453781;\n",
       "            color:  #f1f1f1;\n",
       "        }    #T_55f55fad_2982_11eb_a2f8_c0b5d7b1f7f0row2_col10 {\n",
       "            background-color:  #482173;\n",
       "            color:  #f1f1f1;\n",
       "        }    #T_55f55fad_2982_11eb_a2f8_c0b5d7b1f7f0row2_col11 {\n",
       "            background-color:  #3b528b;\n",
       "            color:  #f1f1f1;\n",
       "        }    #T_55f55fad_2982_11eb_a2f8_c0b5d7b1f7f0row2_col12 {\n",
       "            background-color:  #453581;\n",
       "            color:  #f1f1f1;\n",
       "        }    #T_55f55fad_2982_11eb_a2f8_c0b5d7b1f7f0row3_col0 {\n",
       "            background-color:  #26818e;\n",
       "            color:  #000000;\n",
       "        }    #T_55f55fad_2982_11eb_a2f8_c0b5d7b1f7f0row3_col1 {\n",
       "            background-color:  #2d718e;\n",
       "            color:  #f1f1f1;\n",
       "        }    #T_55f55fad_2982_11eb_a2f8_c0b5d7b1f7f0row3_col2 {\n",
       "            background-color:  #38b977;\n",
       "            color:  #000000;\n",
       "        }    #T_55f55fad_2982_11eb_a2f8_c0b5d7b1f7f0row3_col3 {\n",
       "            background-color:  #fde725;\n",
       "            color:  #000000;\n",
       "        }    #T_55f55fad_2982_11eb_a2f8_c0b5d7b1f7f0row3_col4 {\n",
       "            background-color:  #26828e;\n",
       "            color:  #000000;\n",
       "        }    #T_55f55fad_2982_11eb_a2f8_c0b5d7b1f7f0row3_col5 {\n",
       "            background-color:  #228b8d;\n",
       "            color:  #000000;\n",
       "        }    #T_55f55fad_2982_11eb_a2f8_c0b5d7b1f7f0row3_col6 {\n",
       "            background-color:  #472c7a;\n",
       "            color:  #f1f1f1;\n",
       "        }    #T_55f55fad_2982_11eb_a2f8_c0b5d7b1f7f0row3_col7 {\n",
       "            background-color:  #453882;\n",
       "            color:  #f1f1f1;\n",
       "        }    #T_55f55fad_2982_11eb_a2f8_c0b5d7b1f7f0row3_col8 {\n",
       "            background-color:  #443b84;\n",
       "            color:  #f1f1f1;\n",
       "        }    #T_55f55fad_2982_11eb_a2f8_c0b5d7b1f7f0row3_col9 {\n",
       "            background-color:  #46327e;\n",
       "            color:  #f1f1f1;\n",
       "        }    #T_55f55fad_2982_11eb_a2f8_c0b5d7b1f7f0row3_col10 {\n",
       "            background-color:  #481d6f;\n",
       "            color:  #f1f1f1;\n",
       "        }    #T_55f55fad_2982_11eb_a2f8_c0b5d7b1f7f0row3_col11 {\n",
       "            background-color:  #3e4c8a;\n",
       "            color:  #f1f1f1;\n",
       "        }    #T_55f55fad_2982_11eb_a2f8_c0b5d7b1f7f0row3_col12 {\n",
       "            background-color:  #46337f;\n",
       "            color:  #f1f1f1;\n",
       "        }    #T_55f55fad_2982_11eb_a2f8_c0b5d7b1f7f0row4_col0 {\n",
       "            background-color:  #1fa188;\n",
       "            color:  #000000;\n",
       "        }    #T_55f55fad_2982_11eb_a2f8_c0b5d7b1f7f0row4_col1 {\n",
       "            background-color:  #297b8e;\n",
       "            color:  #000000;\n",
       "        }    #T_55f55fad_2982_11eb_a2f8_c0b5d7b1f7f0row4_col2 {\n",
       "            background-color:  #24878e;\n",
       "            color:  #000000;\n",
       "        }    #T_55f55fad_2982_11eb_a2f8_c0b5d7b1f7f0row4_col3 {\n",
       "            background-color:  #2f6c8e;\n",
       "            color:  #f1f1f1;\n",
       "        }    #T_55f55fad_2982_11eb_a2f8_c0b5d7b1f7f0row4_col4 {\n",
       "            background-color:  #fde725;\n",
       "            color:  #000000;\n",
       "        }    #T_55f55fad_2982_11eb_a2f8_c0b5d7b1f7f0row4_col5 {\n",
       "            background-color:  #b5de2b;\n",
       "            color:  #000000;\n",
       "        }    #T_55f55fad_2982_11eb_a2f8_c0b5d7b1f7f0row4_col6 {\n",
       "            background-color:  #450559;\n",
       "            color:  #f1f1f1;\n",
       "        }    #T_55f55fad_2982_11eb_a2f8_c0b5d7b1f7f0row4_col7 {\n",
       "            background-color:  #46075a;\n",
       "            color:  #f1f1f1;\n",
       "        }    #T_55f55fad_2982_11eb_a2f8_c0b5d7b1f7f0row4_col8 {\n",
       "            background-color:  #414287;\n",
       "            color:  #f1f1f1;\n",
       "        }    #T_55f55fad_2982_11eb_a2f8_c0b5d7b1f7f0row4_col9 {\n",
       "            background-color:  #3c4f8a;\n",
       "            color:  #f1f1f1;\n",
       "        }    #T_55f55fad_2982_11eb_a2f8_c0b5d7b1f7f0row4_col10 {\n",
       "            background-color:  #481b6d;\n",
       "            color:  #f1f1f1;\n",
       "        }    #T_55f55fad_2982_11eb_a2f8_c0b5d7b1f7f0row4_col11 {\n",
       "            background-color:  #34608d;\n",
       "            color:  #f1f1f1;\n",
       "        }    #T_55f55fad_2982_11eb_a2f8_c0b5d7b1f7f0row4_col12 {\n",
       "            background-color:  #3e4989;\n",
       "            color:  #f1f1f1;\n",
       "        }    #T_55f55fad_2982_11eb_a2f8_c0b5d7b1f7f0row5_col0 {\n",
       "            background-color:  #1f968b;\n",
       "            color:  #000000;\n",
       "        }    #T_55f55fad_2982_11eb_a2f8_c0b5d7b1f7f0row5_col1 {\n",
       "            background-color:  #23888e;\n",
       "            color:  #000000;\n",
       "        }    #T_55f55fad_2982_11eb_a2f8_c0b5d7b1f7f0row5_col2 {\n",
       "            background-color:  #238a8d;\n",
       "            color:  #000000;\n",
       "        }    #T_55f55fad_2982_11eb_a2f8_c0b5d7b1f7f0row5_col3 {\n",
       "            background-color:  #297a8e;\n",
       "            color:  #000000;\n",
       "        }    #T_55f55fad_2982_11eb_a2f8_c0b5d7b1f7f0row5_col4 {\n",
       "            background-color:  #b8de29;\n",
       "            color:  #000000;\n",
       "        }    #T_55f55fad_2982_11eb_a2f8_c0b5d7b1f7f0row5_col5 {\n",
       "            background-color:  #fde725;\n",
       "            color:  #000000;\n",
       "        }    #T_55f55fad_2982_11eb_a2f8_c0b5d7b1f7f0row5_col6 {\n",
       "            background-color:  #470d60;\n",
       "            color:  #f1f1f1;\n",
       "        }    #T_55f55fad_2982_11eb_a2f8_c0b5d7b1f7f0row5_col7 {\n",
       "            background-color:  #471365;\n",
       "            color:  #f1f1f1;\n",
       "        }    #T_55f55fad_2982_11eb_a2f8_c0b5d7b1f7f0row5_col8 {\n",
       "            background-color:  #424186;\n",
       "            color:  #f1f1f1;\n",
       "        }    #T_55f55fad_2982_11eb_a2f8_c0b5d7b1f7f0row5_col9 {\n",
       "            background-color:  #3e4a89;\n",
       "            color:  #f1f1f1;\n",
       "        }    #T_55f55fad_2982_11eb_a2f8_c0b5d7b1f7f0row5_col10 {\n",
       "            background-color:  #48186a;\n",
       "            color:  #f1f1f1;\n",
       "        }    #T_55f55fad_2982_11eb_a2f8_c0b5d7b1f7f0row5_col11 {\n",
       "            background-color:  #355f8d;\n",
       "            color:  #f1f1f1;\n",
       "        }    #T_55f55fad_2982_11eb_a2f8_c0b5d7b1f7f0row5_col12 {\n",
       "            background-color:  #3f4788;\n",
       "            color:  #f1f1f1;\n",
       "        }    #T_55f55fad_2982_11eb_a2f8_c0b5d7b1f7f0row6_col0 {\n",
       "            background-color:  #481b6d;\n",
       "            color:  #f1f1f1;\n",
       "        }    #T_55f55fad_2982_11eb_a2f8_c0b5d7b1f7f0row6_col1 {\n",
       "            background-color:  #481467;\n",
       "            color:  #f1f1f1;\n",
       "        }    #T_55f55fad_2982_11eb_a2f8_c0b5d7b1f7f0row6_col2 {\n",
       "            background-color:  #471063;\n",
       "            color:  #f1f1f1;\n",
       "        }    #T_55f55fad_2982_11eb_a2f8_c0b5d7b1f7f0row6_col3 {\n",
       "            background-color:  #460b5e;\n",
       "            color:  #f1f1f1;\n",
       "        }    #T_55f55fad_2982_11eb_a2f8_c0b5d7b1f7f0row6_col4 {\n",
       "            background-color:  #481a6c;\n",
       "            color:  #f1f1f1;\n",
       "        }    #T_55f55fad_2982_11eb_a2f8_c0b5d7b1f7f0row6_col5 {\n",
       "            background-color:  #481467;\n",
       "            color:  #f1f1f1;\n",
       "        }    #T_55f55fad_2982_11eb_a2f8_c0b5d7b1f7f0row6_col6 {\n",
       "            background-color:  #fde725;\n",
       "            color:  #000000;\n",
       "        }    #T_55f55fad_2982_11eb_a2f8_c0b5d7b1f7f0row6_col7 {\n",
       "            background-color:  #d5e21a;\n",
       "            color:  #000000;\n",
       "        }    #T_55f55fad_2982_11eb_a2f8_c0b5d7b1f7f0row6_col8 {\n",
       "            background-color:  #471365;\n",
       "            color:  #f1f1f1;\n",
       "        }    #T_55f55fad_2982_11eb_a2f8_c0b5d7b1f7f0row6_col9 {\n",
       "            background-color:  #471063;\n",
       "            color:  #f1f1f1;\n",
       "        }    #T_55f55fad_2982_11eb_a2f8_c0b5d7b1f7f0row6_col10 {\n",
       "            background-color:  #450559;\n",
       "            color:  #f1f1f1;\n",
       "        }    #T_55f55fad_2982_11eb_a2f8_c0b5d7b1f7f0row6_col11 {\n",
       "            background-color:  #471164;\n",
       "            color:  #f1f1f1;\n",
       "        }    #T_55f55fad_2982_11eb_a2f8_c0b5d7b1f7f0row6_col12 {\n",
       "            background-color:  #3e4989;\n",
       "            color:  #f1f1f1;\n",
       "        }    #T_55f55fad_2982_11eb_a2f8_c0b5d7b1f7f0row7_col0 {\n",
       "            background-color:  #440154;\n",
       "            color:  #f1f1f1;\n",
       "        }    #T_55f55fad_2982_11eb_a2f8_c0b5d7b1f7f0row7_col1 {\n",
       "            background-color:  #440154;\n",
       "            color:  #f1f1f1;\n",
       "        }    #T_55f55fad_2982_11eb_a2f8_c0b5d7b1f7f0row7_col2 {\n",
       "            background-color:  #440154;\n",
       "            color:  #f1f1f1;\n",
       "        }    #T_55f55fad_2982_11eb_a2f8_c0b5d7b1f7f0row7_col3 {\n",
       "            background-color:  #440154;\n",
       "            color:  #f1f1f1;\n",
       "        }    #T_55f55fad_2982_11eb_a2f8_c0b5d7b1f7f0row7_col4 {\n",
       "            background-color:  #440154;\n",
       "            color:  #f1f1f1;\n",
       "        }    #T_55f55fad_2982_11eb_a2f8_c0b5d7b1f7f0row7_col5 {\n",
       "            background-color:  #440154;\n",
       "            color:  #f1f1f1;\n",
       "        }    #T_55f55fad_2982_11eb_a2f8_c0b5d7b1f7f0row7_col6 {\n",
       "            background-color:  #d0e11c;\n",
       "            color:  #000000;\n",
       "        }    #T_55f55fad_2982_11eb_a2f8_c0b5d7b1f7f0row7_col7 {\n",
       "            background-color:  #fde725;\n",
       "            color:  #000000;\n",
       "        }    #T_55f55fad_2982_11eb_a2f8_c0b5d7b1f7f0row7_col8 {\n",
       "            background-color:  #440154;\n",
       "            color:  #f1f1f1;\n",
       "        }    #T_55f55fad_2982_11eb_a2f8_c0b5d7b1f7f0row7_col9 {\n",
       "            background-color:  #450559;\n",
       "            color:  #f1f1f1;\n",
       "        }    #T_55f55fad_2982_11eb_a2f8_c0b5d7b1f7f0row7_col10 {\n",
       "            background-color:  #440154;\n",
       "            color:  #f1f1f1;\n",
       "        }    #T_55f55fad_2982_11eb_a2f8_c0b5d7b1f7f0row7_col11 {\n",
       "            background-color:  #440154;\n",
       "            color:  #f1f1f1;\n",
       "        }    #T_55f55fad_2982_11eb_a2f8_c0b5d7b1f7f0row7_col12 {\n",
       "            background-color:  #3a548c;\n",
       "            color:  #f1f1f1;\n",
       "        }    #T_55f55fad_2982_11eb_a2f8_c0b5d7b1f7f0row8_col0 {\n",
       "            background-color:  #33638d;\n",
       "            color:  #f1f1f1;\n",
       "        }    #T_55f55fad_2982_11eb_a2f8_c0b5d7b1f7f0row8_col1 {\n",
       "            background-color:  #3e4c8a;\n",
       "            color:  #f1f1f1;\n",
       "        }    #T_55f55fad_2982_11eb_a2f8_c0b5d7b1f7f0row8_col2 {\n",
       "            background-color:  #433e85;\n",
       "            color:  #f1f1f1;\n",
       "        }    #T_55f55fad_2982_11eb_a2f8_c0b5d7b1f7f0row8_col3 {\n",
       "            background-color:  #472c7a;\n",
       "            color:  #f1f1f1;\n",
       "        }    #T_55f55fad_2982_11eb_a2f8_c0b5d7b1f7f0row8_col4 {\n",
       "            background-color:  #38588c;\n",
       "            color:  #f1f1f1;\n",
       "        }    #T_55f55fad_2982_11eb_a2f8_c0b5d7b1f7f0row8_col5 {\n",
       "            background-color:  #3c508b;\n",
       "            color:  #f1f1f1;\n",
       "        }    #T_55f55fad_2982_11eb_a2f8_c0b5d7b1f7f0row8_col6 {\n",
       "            background-color:  #481f70;\n",
       "            color:  #f1f1f1;\n",
       "        }    #T_55f55fad_2982_11eb_a2f8_c0b5d7b1f7f0row8_col7 {\n",
       "            background-color:  #482677;\n",
       "            color:  #f1f1f1;\n",
       "        }    #T_55f55fad_2982_11eb_a2f8_c0b5d7b1f7f0row8_col8 {\n",
       "            background-color:  #fde725;\n",
       "            color:  #000000;\n",
       "        }    #T_55f55fad_2982_11eb_a2f8_c0b5d7b1f7f0row8_col9 {\n",
       "            background-color:  #453882;\n",
       "            color:  #f1f1f1;\n",
       "        }    #T_55f55fad_2982_11eb_a2f8_c0b5d7b1f7f0row8_col10 {\n",
       "            background-color:  #481a6c;\n",
       "            color:  #f1f1f1;\n",
       "        }    #T_55f55fad_2982_11eb_a2f8_c0b5d7b1f7f0row8_col11 {\n",
       "            background-color:  #20a386;\n",
       "            color:  #000000;\n",
       "        }    #T_55f55fad_2982_11eb_a2f8_c0b5d7b1f7f0row8_col12 {\n",
       "            background-color:  #440154;\n",
       "            color:  #f1f1f1;\n",
       "        }    #T_55f55fad_2982_11eb_a2f8_c0b5d7b1f7f0row9_col0 {\n",
       "            background-color:  #33638d;\n",
       "            color:  #f1f1f1;\n",
       "        }    #T_55f55fad_2982_11eb_a2f8_c0b5d7b1f7f0row9_col1 {\n",
       "            background-color:  #3f4889;\n",
       "            color:  #f1f1f1;\n",
       "        }    #T_55f55fad_2982_11eb_a2f8_c0b5d7b1f7f0row9_col2 {\n",
       "            background-color:  #424186;\n",
       "            color:  #f1f1f1;\n",
       "        }    #T_55f55fad_2982_11eb_a2f8_c0b5d7b1f7f0row9_col3 {\n",
       "            background-color:  #472f7d;\n",
       "            color:  #f1f1f1;\n",
       "        }    #T_55f55fad_2982_11eb_a2f8_c0b5d7b1f7f0row9_col4 {\n",
       "            background-color:  #2f6b8e;\n",
       "            color:  #f1f1f1;\n",
       "        }    #T_55f55fad_2982_11eb_a2f8_c0b5d7b1f7f0row9_col5 {\n",
       "            background-color:  #33628d;\n",
       "            color:  #f1f1f1;\n",
       "        }    #T_55f55fad_2982_11eb_a2f8_c0b5d7b1f7f0row9_col6 {\n",
       "            background-color:  #472d7b;\n",
       "            color:  #f1f1f1;\n",
       "        }    #T_55f55fad_2982_11eb_a2f8_c0b5d7b1f7f0row9_col7 {\n",
       "            background-color:  #443983;\n",
       "            color:  #f1f1f1;\n",
       "        }    #T_55f55fad_2982_11eb_a2f8_c0b5d7b1f7f0row9_col8 {\n",
       "            background-color:  #404588;\n",
       "            color:  #f1f1f1;\n",
       "        }    #T_55f55fad_2982_11eb_a2f8_c0b5d7b1f7f0row9_col9 {\n",
       "            background-color:  #fde725;\n",
       "            color:  #000000;\n",
       "        }    #T_55f55fad_2982_11eb_a2f8_c0b5d7b1f7f0row9_col10 {\n",
       "            background-color:  #481c6e;\n",
       "            color:  #f1f1f1;\n",
       "        }    #T_55f55fad_2982_11eb_a2f8_c0b5d7b1f7f0row9_col11 {\n",
       "            background-color:  #38598c;\n",
       "            color:  #f1f1f1;\n",
       "        }    #T_55f55fad_2982_11eb_a2f8_c0b5d7b1f7f0row9_col12 {\n",
       "            background-color:  #440154;\n",
       "            color:  #f1f1f1;\n",
       "        }    #T_55f55fad_2982_11eb_a2f8_c0b5d7b1f7f0row10_col0 {\n",
       "            background-color:  #3a548c;\n",
       "            color:  #f1f1f1;\n",
       "        }    #T_55f55fad_2982_11eb_a2f8_c0b5d7b1f7f0row10_col1 {\n",
       "            background-color:  #433e85;\n",
       "            color:  #f1f1f1;\n",
       "        }    #T_55f55fad_2982_11eb_a2f8_c0b5d7b1f7f0row10_col2 {\n",
       "            background-color:  #443a83;\n",
       "            color:  #f1f1f1;\n",
       "        }    #T_55f55fad_2982_11eb_a2f8_c0b5d7b1f7f0row10_col3 {\n",
       "            background-color:  #482979;\n",
       "            color:  #f1f1f1;\n",
       "        }    #T_55f55fad_2982_11eb_a2f8_c0b5d7b1f7f0row10_col4 {\n",
       "            background-color:  #3c4f8a;\n",
       "            color:  #f1f1f1;\n",
       "        }    #T_55f55fad_2982_11eb_a2f8_c0b5d7b1f7f0row10_col5 {\n",
       "            background-color:  #404688;\n",
       "            color:  #f1f1f1;\n",
       "        }    #T_55f55fad_2982_11eb_a2f8_c0b5d7b1f7f0row10_col6 {\n",
       "            background-color:  #46337f;\n",
       "            color:  #f1f1f1;\n",
       "        }    #T_55f55fad_2982_11eb_a2f8_c0b5d7b1f7f0row10_col7 {\n",
       "            background-color:  #424186;\n",
       "            color:  #f1f1f1;\n",
       "        }    #T_55f55fad_2982_11eb_a2f8_c0b5d7b1f7f0row10_col8 {\n",
       "            background-color:  #453781;\n",
       "            color:  #f1f1f1;\n",
       "        }    #T_55f55fad_2982_11eb_a2f8_c0b5d7b1f7f0row10_col9 {\n",
       "            background-color:  #482979;\n",
       "            color:  #f1f1f1;\n",
       "        }    #T_55f55fad_2982_11eb_a2f8_c0b5d7b1f7f0row10_col10 {\n",
       "            background-color:  #fde725;\n",
       "            color:  #000000;\n",
       "        }    #T_55f55fad_2982_11eb_a2f8_c0b5d7b1f7f0row10_col11 {\n",
       "            background-color:  #414287;\n",
       "            color:  #f1f1f1;\n",
       "        }    #T_55f55fad_2982_11eb_a2f8_c0b5d7b1f7f0row10_col12 {\n",
       "            background-color:  #481a6c;\n",
       "            color:  #f1f1f1;\n",
       "        }    #T_55f55fad_2982_11eb_a2f8_c0b5d7b1f7f0row11_col0 {\n",
       "            background-color:  #2f6b8e;\n",
       "            color:  #f1f1f1;\n",
       "        }    #T_55f55fad_2982_11eb_a2f8_c0b5d7b1f7f0row11_col1 {\n",
       "            background-color:  #3b518b;\n",
       "            color:  #f1f1f1;\n",
       "        }    #T_55f55fad_2982_11eb_a2f8_c0b5d7b1f7f0row11_col2 {\n",
       "            background-color:  #3e4989;\n",
       "            color:  #f1f1f1;\n",
       "        }    #T_55f55fad_2982_11eb_a2f8_c0b5d7b1f7f0row11_col3 {\n",
       "            background-color:  #453781;\n",
       "            color:  #f1f1f1;\n",
       "        }    #T_55f55fad_2982_11eb_a2f8_c0b5d7b1f7f0row11_col4 {\n",
       "            background-color:  #2f6c8e;\n",
       "            color:  #f1f1f1;\n",
       "        }    #T_55f55fad_2982_11eb_a2f8_c0b5d7b1f7f0row11_col5 {\n",
       "            background-color:  #32658e;\n",
       "            color:  #f1f1f1;\n",
       "        }    #T_55f55fad_2982_11eb_a2f8_c0b5d7b1f7f0row11_col6 {\n",
       "            background-color:  #481769;\n",
       "            color:  #f1f1f1;\n",
       "        }    #T_55f55fad_2982_11eb_a2f8_c0b5d7b1f7f0row11_col7 {\n",
       "            background-color:  #481f70;\n",
       "            color:  #f1f1f1;\n",
       "        }    #T_55f55fad_2982_11eb_a2f8_c0b5d7b1f7f0row11_col8 {\n",
       "            background-color:  #1fa188;\n",
       "            color:  #000000;\n",
       "        }    #T_55f55fad_2982_11eb_a2f8_c0b5d7b1f7f0row11_col9 {\n",
       "            background-color:  #3f4889;\n",
       "            color:  #f1f1f1;\n",
       "        }    #T_55f55fad_2982_11eb_a2f8_c0b5d7b1f7f0row11_col10 {\n",
       "            background-color:  #482071;\n",
       "            color:  #f1f1f1;\n",
       "        }    #T_55f55fad_2982_11eb_a2f8_c0b5d7b1f7f0row11_col11 {\n",
       "            background-color:  #fde725;\n",
       "            color:  #000000;\n",
       "        }    #T_55f55fad_2982_11eb_a2f8_c0b5d7b1f7f0row11_col12 {\n",
       "            background-color:  #450457;\n",
       "            color:  #f1f1f1;\n",
       "        }    #T_55f55fad_2982_11eb_a2f8_c0b5d7b1f7f0row12_col0 {\n",
       "            background-color:  #3e4a89;\n",
       "            color:  #f1f1f1;\n",
       "        }    #T_55f55fad_2982_11eb_a2f8_c0b5d7b1f7f0row12_col1 {\n",
       "            background-color:  #463480;\n",
       "            color:  #f1f1f1;\n",
       "        }    #T_55f55fad_2982_11eb_a2f8_c0b5d7b1f7f0row12_col2 {\n",
       "            background-color:  #424086;\n",
       "            color:  #f1f1f1;\n",
       "        }    #T_55f55fad_2982_11eb_a2f8_c0b5d7b1f7f0row12_col3 {\n",
       "            background-color:  #472f7d;\n",
       "            color:  #f1f1f1;\n",
       "        }    #T_55f55fad_2982_11eb_a2f8_c0b5d7b1f7f0row12_col4 {\n",
       "            background-color:  #31668e;\n",
       "            color:  #f1f1f1;\n",
       "        }    #T_55f55fad_2982_11eb_a2f8_c0b5d7b1f7f0row12_col5 {\n",
       "            background-color:  #355f8d;\n",
       "            color:  #f1f1f1;\n",
       "        }    #T_55f55fad_2982_11eb_a2f8_c0b5d7b1f7f0row12_col6 {\n",
       "            background-color:  #365c8d;\n",
       "            color:  #f1f1f1;\n",
       "        }    #T_55f55fad_2982_11eb_a2f8_c0b5d7b1f7f0row12_col7 {\n",
       "            background-color:  #2d718e;\n",
       "            color:  #f1f1f1;\n",
       "        }    #T_55f55fad_2982_11eb_a2f8_c0b5d7b1f7f0row12_col8 {\n",
       "            background-color:  #471365;\n",
       "            color:  #f1f1f1;\n",
       "        }    #T_55f55fad_2982_11eb_a2f8_c0b5d7b1f7f0row12_col9 {\n",
       "            background-color:  #440154;\n",
       "            color:  #f1f1f1;\n",
       "        }    #T_55f55fad_2982_11eb_a2f8_c0b5d7b1f7f0row12_col10 {\n",
       "            background-color:  #46085c;\n",
       "            color:  #f1f1f1;\n",
       "        }    #T_55f55fad_2982_11eb_a2f8_c0b5d7b1f7f0row12_col11 {\n",
       "            background-color:  #481f70;\n",
       "            color:  #f1f1f1;\n",
       "        }    #T_55f55fad_2982_11eb_a2f8_c0b5d7b1f7f0row12_col12 {\n",
       "            background-color:  #fde725;\n",
       "            color:  #000000;\n",
       "        }</style><table id=\"T_55f55fad_2982_11eb_a2f8_c0b5d7b1f7f0\" ><thead>    <tr>        <th class=\"blank level0\" ></th>        <th class=\"col_heading level0 col0\" >Administrative</th>        <th class=\"col_heading level0 col1\" >Administrative_Duration</th>        <th class=\"col_heading level0 col2\" >Informational</th>        <th class=\"col_heading level0 col3\" >Informational_Duration</th>        <th class=\"col_heading level0 col4\" >ProductRelated</th>        <th class=\"col_heading level0 col5\" >ProductRelated_Duration</th>        <th class=\"col_heading level0 col6\" >BounceRates</th>        <th class=\"col_heading level0 col7\" >ExitRates</th>        <th class=\"col_heading level0 col8\" >PageValues</th>        <th class=\"col_heading level0 col9\" >Month</th>        <th class=\"col_heading level0 col10\" >Weekend</th>        <th class=\"col_heading level0 col11\" >Revenue</th>        <th class=\"col_heading level0 col12\" >Returning_Visitor</th>    </tr></thead><tbody>\n",
       "                <tr>\n",
       "                        <th id=\"T_55f55fad_2982_11eb_a2f8_c0b5d7b1f7f0level0_row0\" class=\"row_heading level0 row0\" >Administrative</th>\n",
       "                        <td id=\"T_55f55fad_2982_11eb_a2f8_c0b5d7b1f7f0row0_col0\" class=\"data row0 col0\" >1.00</td>\n",
       "                        <td id=\"T_55f55fad_2982_11eb_a2f8_c0b5d7b1f7f0row0_col1\" class=\"data row0 col1\" >0.60</td>\n",
       "                        <td id=\"T_55f55fad_2982_11eb_a2f8_c0b5d7b1f7f0row0_col2\" class=\"data row0 col2\" >0.38</td>\n",
       "                        <td id=\"T_55f55fad_2982_11eb_a2f8_c0b5d7b1f7f0row0_col3\" class=\"data row0 col3\" >0.26</td>\n",
       "                        <td id=\"T_55f55fad_2982_11eb_a2f8_c0b5d7b1f7f0row0_col4\" class=\"data row0 col4\" >0.43</td>\n",
       "                        <td id=\"T_55f55fad_2982_11eb_a2f8_c0b5d7b1f7f0row0_col5\" class=\"data row0 col5\" >0.37</td>\n",
       "                        <td id=\"T_55f55fad_2982_11eb_a2f8_c0b5d7b1f7f0row0_col6\" class=\"data row0 col6\" >-0.22</td>\n",
       "                        <td id=\"T_55f55fad_2982_11eb_a2f8_c0b5d7b1f7f0row0_col7\" class=\"data row0 col7\" >-0.32</td>\n",
       "                        <td id=\"T_55f55fad_2982_11eb_a2f8_c0b5d7b1f7f0row0_col8\" class=\"data row0 col8\" >0.10</td>\n",
       "                        <td id=\"T_55f55fad_2982_11eb_a2f8_c0b5d7b1f7f0row0_col9\" class=\"data row0 col9\" >0.10</td>\n",
       "                        <td id=\"T_55f55fad_2982_11eb_a2f8_c0b5d7b1f7f0row0_col10\" class=\"data row0 col10\" >0.03</td>\n",
       "                        <td id=\"T_55f55fad_2982_11eb_a2f8_c0b5d7b1f7f0row0_col11\" class=\"data row0 col11\" >0.14</td>\n",
       "                        <td id=\"T_55f55fad_2982_11eb_a2f8_c0b5d7b1f7f0row0_col12\" class=\"data row0 col12\" >-0.02</td>\n",
       "            </tr>\n",
       "            <tr>\n",
       "                        <th id=\"T_55f55fad_2982_11eb_a2f8_c0b5d7b1f7f0level0_row1\" class=\"row_heading level0 row1\" >Administrative_Duration</th>\n",
       "                        <td id=\"T_55f55fad_2982_11eb_a2f8_c0b5d7b1f7f0row1_col0\" class=\"data row1 col0\" >0.60</td>\n",
       "                        <td id=\"T_55f55fad_2982_11eb_a2f8_c0b5d7b1f7f0row1_col1\" class=\"data row1 col1\" >1.00</td>\n",
       "                        <td id=\"T_55f55fad_2982_11eb_a2f8_c0b5d7b1f7f0row1_col2\" class=\"data row1 col2\" >0.30</td>\n",
       "                        <td id=\"T_55f55fad_2982_11eb_a2f8_c0b5d7b1f7f0row1_col3\" class=\"data row1 col3\" >0.24</td>\n",
       "                        <td id=\"T_55f55fad_2982_11eb_a2f8_c0b5d7b1f7f0row1_col4\" class=\"data row1 col4\" >0.29</td>\n",
       "                        <td id=\"T_55f55fad_2982_11eb_a2f8_c0b5d7b1f7f0row1_col5\" class=\"data row1 col5\" >0.36</td>\n",
       "                        <td id=\"T_55f55fad_2982_11eb_a2f8_c0b5d7b1f7f0row1_col6\" class=\"data row1 col6\" >-0.14</td>\n",
       "                        <td id=\"T_55f55fad_2982_11eb_a2f8_c0b5d7b1f7f0row1_col7\" class=\"data row1 col7\" >-0.21</td>\n",
       "                        <td id=\"T_55f55fad_2982_11eb_a2f8_c0b5d7b1f7f0row1_col8\" class=\"data row1 col8\" >0.07</td>\n",
       "                        <td id=\"T_55f55fad_2982_11eb_a2f8_c0b5d7b1f7f0row1_col9\" class=\"data row1 col9\" >0.06</td>\n",
       "                        <td id=\"T_55f55fad_2982_11eb_a2f8_c0b5d7b1f7f0row1_col10\" class=\"data row1 col10\" >0.01</td>\n",
       "                        <td id=\"T_55f55fad_2982_11eb_a2f8_c0b5d7b1f7f0row1_col11\" class=\"data row1 col11\" >0.09</td>\n",
       "                        <td id=\"T_55f55fad_2982_11eb_a2f8_c0b5d7b1f7f0row1_col12\" class=\"data row1 col12\" >-0.02</td>\n",
       "            </tr>\n",
       "            <tr>\n",
       "                        <th id=\"T_55f55fad_2982_11eb_a2f8_c0b5d7b1f7f0level0_row2\" class=\"row_heading level0 row2\" >Informational</th>\n",
       "                        <td id=\"T_55f55fad_2982_11eb_a2f8_c0b5d7b1f7f0row2_col0\" class=\"data row2 col0\" >0.38</td>\n",
       "                        <td id=\"T_55f55fad_2982_11eb_a2f8_c0b5d7b1f7f0row2_col1\" class=\"data row2 col1\" >0.30</td>\n",
       "                        <td id=\"T_55f55fad_2982_11eb_a2f8_c0b5d7b1f7f0row2_col2\" class=\"data row2 col2\" >1.00</td>\n",
       "                        <td id=\"T_55f55fad_2982_11eb_a2f8_c0b5d7b1f7f0row2_col3\" class=\"data row2 col3\" >0.62</td>\n",
       "                        <td id=\"T_55f55fad_2982_11eb_a2f8_c0b5d7b1f7f0row2_col4\" class=\"data row2 col4\" >0.37</td>\n",
       "                        <td id=\"T_55f55fad_2982_11eb_a2f8_c0b5d7b1f7f0row2_col5\" class=\"data row2 col5\" >0.39</td>\n",
       "                        <td id=\"T_55f55fad_2982_11eb_a2f8_c0b5d7b1f7f0row2_col6\" class=\"data row2 col6\" >-0.12</td>\n",
       "                        <td id=\"T_55f55fad_2982_11eb_a2f8_c0b5d7b1f7f0row2_col7\" class=\"data row2 col7\" >-0.16</td>\n",
       "                        <td id=\"T_55f55fad_2982_11eb_a2f8_c0b5d7b1f7f0row2_col8\" class=\"data row2 col8\" >0.05</td>\n",
       "                        <td id=\"T_55f55fad_2982_11eb_a2f8_c0b5d7b1f7f0row2_col9\" class=\"data row2 col9\" >0.06</td>\n",
       "                        <td id=\"T_55f55fad_2982_11eb_a2f8_c0b5d7b1f7f0row2_col10\" class=\"data row2 col10\" >0.04</td>\n",
       "                        <td id=\"T_55f55fad_2982_11eb_a2f8_c0b5d7b1f7f0row2_col11\" class=\"data row2 col11\" >0.10</td>\n",
       "                        <td id=\"T_55f55fad_2982_11eb_a2f8_c0b5d7b1f7f0row2_col12\" class=\"data row2 col12\" >0.06</td>\n",
       "            </tr>\n",
       "            <tr>\n",
       "                        <th id=\"T_55f55fad_2982_11eb_a2f8_c0b5d7b1f7f0level0_row3\" class=\"row_heading level0 row3\" >Informational_Duration</th>\n",
       "                        <td id=\"T_55f55fad_2982_11eb_a2f8_c0b5d7b1f7f0row3_col0\" class=\"data row3 col0\" >0.26</td>\n",
       "                        <td id=\"T_55f55fad_2982_11eb_a2f8_c0b5d7b1f7f0row3_col1\" class=\"data row3 col1\" >0.24</td>\n",
       "                        <td id=\"T_55f55fad_2982_11eb_a2f8_c0b5d7b1f7f0row3_col2\" class=\"data row3 col2\" >0.62</td>\n",
       "                        <td id=\"T_55f55fad_2982_11eb_a2f8_c0b5d7b1f7f0row3_col3\" class=\"data row3 col3\" >1.00</td>\n",
       "                        <td id=\"T_55f55fad_2982_11eb_a2f8_c0b5d7b1f7f0row3_col4\" class=\"data row3 col4\" >0.28</td>\n",
       "                        <td id=\"T_55f55fad_2982_11eb_a2f8_c0b5d7b1f7f0row3_col5\" class=\"data row3 col5\" >0.35</td>\n",
       "                        <td id=\"T_55f55fad_2982_11eb_a2f8_c0b5d7b1f7f0row3_col6\" class=\"data row3 col6\" >-0.07</td>\n",
       "                        <td id=\"T_55f55fad_2982_11eb_a2f8_c0b5d7b1f7f0row3_col7\" class=\"data row3 col7\" >-0.11</td>\n",
       "                        <td id=\"T_55f55fad_2982_11eb_a2f8_c0b5d7b1f7f0row3_col8\" class=\"data row3 col8\" >0.03</td>\n",
       "                        <td id=\"T_55f55fad_2982_11eb_a2f8_c0b5d7b1f7f0row3_col9\" class=\"data row3 col9\" >0.04</td>\n",
       "                        <td id=\"T_55f55fad_2982_11eb_a2f8_c0b5d7b1f7f0row3_col10\" class=\"data row3 col10\" >0.02</td>\n",
       "                        <td id=\"T_55f55fad_2982_11eb_a2f8_c0b5d7b1f7f0row3_col11\" class=\"data row3 col11\" >0.07</td>\n",
       "                        <td id=\"T_55f55fad_2982_11eb_a2f8_c0b5d7b1f7f0row3_col12\" class=\"data row3 col12\" >0.05</td>\n",
       "            </tr>\n",
       "            <tr>\n",
       "                        <th id=\"T_55f55fad_2982_11eb_a2f8_c0b5d7b1f7f0level0_row4\" class=\"row_heading level0 row4\" >ProductRelated</th>\n",
       "                        <td id=\"T_55f55fad_2982_11eb_a2f8_c0b5d7b1f7f0row4_col0\" class=\"data row4 col0\" >0.43</td>\n",
       "                        <td id=\"T_55f55fad_2982_11eb_a2f8_c0b5d7b1f7f0row4_col1\" class=\"data row4 col1\" >0.29</td>\n",
       "                        <td id=\"T_55f55fad_2982_11eb_a2f8_c0b5d7b1f7f0row4_col2\" class=\"data row4 col2\" >0.37</td>\n",
       "                        <td id=\"T_55f55fad_2982_11eb_a2f8_c0b5d7b1f7f0row4_col3\" class=\"data row4 col3\" >0.28</td>\n",
       "                        <td id=\"T_55f55fad_2982_11eb_a2f8_c0b5d7b1f7f0row4_col4\" class=\"data row4 col4\" >1.00</td>\n",
       "                        <td id=\"T_55f55fad_2982_11eb_a2f8_c0b5d7b1f7f0row4_col5\" class=\"data row4 col5\" >0.86</td>\n",
       "                        <td id=\"T_55f55fad_2982_11eb_a2f8_c0b5d7b1f7f0row4_col6\" class=\"data row4 col6\" >-0.20</td>\n",
       "                        <td id=\"T_55f55fad_2982_11eb_a2f8_c0b5d7b1f7f0row4_col7\" class=\"data row4 col7\" >-0.29</td>\n",
       "                        <td id=\"T_55f55fad_2982_11eb_a2f8_c0b5d7b1f7f0row4_col8\" class=\"data row4 col8\" >0.06</td>\n",
       "                        <td id=\"T_55f55fad_2982_11eb_a2f8_c0b5d7b1f7f0row4_col9\" class=\"data row4 col9\" >0.16</td>\n",
       "                        <td id=\"T_55f55fad_2982_11eb_a2f8_c0b5d7b1f7f0row4_col10\" class=\"data row4 col10\" >0.02</td>\n",
       "                        <td id=\"T_55f55fad_2982_11eb_a2f8_c0b5d7b1f7f0row4_col11\" class=\"data row4 col11\" >0.16</td>\n",
       "                        <td id=\"T_55f55fad_2982_11eb_a2f8_c0b5d7b1f7f0row4_col12\" class=\"data row4 col12\" >0.13</td>\n",
       "            </tr>\n",
       "            <tr>\n",
       "                        <th id=\"T_55f55fad_2982_11eb_a2f8_c0b5d7b1f7f0level0_row5\" class=\"row_heading level0 row5\" >ProductRelated_Duration</th>\n",
       "                        <td id=\"T_55f55fad_2982_11eb_a2f8_c0b5d7b1f7f0row5_col0\" class=\"data row5 col0\" >0.37</td>\n",
       "                        <td id=\"T_55f55fad_2982_11eb_a2f8_c0b5d7b1f7f0row5_col1\" class=\"data row5 col1\" >0.36</td>\n",
       "                        <td id=\"T_55f55fad_2982_11eb_a2f8_c0b5d7b1f7f0row5_col2\" class=\"data row5 col2\" >0.39</td>\n",
       "                        <td id=\"T_55f55fad_2982_11eb_a2f8_c0b5d7b1f7f0row5_col3\" class=\"data row5 col3\" >0.35</td>\n",
       "                        <td id=\"T_55f55fad_2982_11eb_a2f8_c0b5d7b1f7f0row5_col4\" class=\"data row5 col4\" >0.86</td>\n",
       "                        <td id=\"T_55f55fad_2982_11eb_a2f8_c0b5d7b1f7f0row5_col5\" class=\"data row5 col5\" >1.00</td>\n",
       "                        <td id=\"T_55f55fad_2982_11eb_a2f8_c0b5d7b1f7f0row5_col6\" class=\"data row5 col6\" >-0.18</td>\n",
       "                        <td id=\"T_55f55fad_2982_11eb_a2f8_c0b5d7b1f7f0row5_col7\" class=\"data row5 col7\" >-0.25</td>\n",
       "                        <td id=\"T_55f55fad_2982_11eb_a2f8_c0b5d7b1f7f0row5_col8\" class=\"data row5 col8\" >0.05</td>\n",
       "                        <td id=\"T_55f55fad_2982_11eb_a2f8_c0b5d7b1f7f0row5_col9\" class=\"data row5 col9\" >0.14</td>\n",
       "                        <td id=\"T_55f55fad_2982_11eb_a2f8_c0b5d7b1f7f0row5_col10\" class=\"data row5 col10\" >0.01</td>\n",
       "                        <td id=\"T_55f55fad_2982_11eb_a2f8_c0b5d7b1f7f0row5_col11\" class=\"data row5 col11\" >0.15</td>\n",
       "                        <td id=\"T_55f55fad_2982_11eb_a2f8_c0b5d7b1f7f0row5_col12\" class=\"data row5 col12\" >0.12</td>\n",
       "            </tr>\n",
       "            <tr>\n",
       "                        <th id=\"T_55f55fad_2982_11eb_a2f8_c0b5d7b1f7f0level0_row6\" class=\"row_heading level0 row6\" >BounceRates</th>\n",
       "                        <td id=\"T_55f55fad_2982_11eb_a2f8_c0b5d7b1f7f0row6_col0\" class=\"data row6 col0\" >-0.22</td>\n",
       "                        <td id=\"T_55f55fad_2982_11eb_a2f8_c0b5d7b1f7f0row6_col1\" class=\"data row6 col1\" >-0.14</td>\n",
       "                        <td id=\"T_55f55fad_2982_11eb_a2f8_c0b5d7b1f7f0row6_col2\" class=\"data row6 col2\" >-0.12</td>\n",
       "                        <td id=\"T_55f55fad_2982_11eb_a2f8_c0b5d7b1f7f0row6_col3\" class=\"data row6 col3\" >-0.07</td>\n",
       "                        <td id=\"T_55f55fad_2982_11eb_a2f8_c0b5d7b1f7f0row6_col4\" class=\"data row6 col4\" >-0.20</td>\n",
       "                        <td id=\"T_55f55fad_2982_11eb_a2f8_c0b5d7b1f7f0row6_col5\" class=\"data row6 col5\" >-0.18</td>\n",
       "                        <td id=\"T_55f55fad_2982_11eb_a2f8_c0b5d7b1f7f0row6_col6\" class=\"data row6 col6\" >1.00</td>\n",
       "                        <td id=\"T_55f55fad_2982_11eb_a2f8_c0b5d7b1f7f0row6_col7\" class=\"data row6 col7\" >0.91</td>\n",
       "                        <td id=\"T_55f55fad_2982_11eb_a2f8_c0b5d7b1f7f0row6_col8\" class=\"data row6 col8\" >-0.12</td>\n",
       "                        <td id=\"T_55f55fad_2982_11eb_a2f8_c0b5d7b1f7f0row6_col9\" class=\"data row6 col9\" >-0.07</td>\n",
       "                        <td id=\"T_55f55fad_2982_11eb_a2f8_c0b5d7b1f7f0row6_col10\" class=\"data row6 col10\" >-0.05</td>\n",
       "                        <td id=\"T_55f55fad_2982_11eb_a2f8_c0b5d7b1f7f0row6_col11\" class=\"data row6 col11\" >-0.15</td>\n",
       "                        <td id=\"T_55f55fad_2982_11eb_a2f8_c0b5d7b1f7f0row6_col12\" class=\"data row6 col12\" >0.13</td>\n",
       "            </tr>\n",
       "            <tr>\n",
       "                        <th id=\"T_55f55fad_2982_11eb_a2f8_c0b5d7b1f7f0level0_row7\" class=\"row_heading level0 row7\" >ExitRates</th>\n",
       "                        <td id=\"T_55f55fad_2982_11eb_a2f8_c0b5d7b1f7f0row7_col0\" class=\"data row7 col0\" >-0.32</td>\n",
       "                        <td id=\"T_55f55fad_2982_11eb_a2f8_c0b5d7b1f7f0row7_col1\" class=\"data row7 col1\" >-0.21</td>\n",
       "                        <td id=\"T_55f55fad_2982_11eb_a2f8_c0b5d7b1f7f0row7_col2\" class=\"data row7 col2\" >-0.16</td>\n",
       "                        <td id=\"T_55f55fad_2982_11eb_a2f8_c0b5d7b1f7f0row7_col3\" class=\"data row7 col3\" >-0.11</td>\n",
       "                        <td id=\"T_55f55fad_2982_11eb_a2f8_c0b5d7b1f7f0row7_col4\" class=\"data row7 col4\" >-0.29</td>\n",
       "                        <td id=\"T_55f55fad_2982_11eb_a2f8_c0b5d7b1f7f0row7_col5\" class=\"data row7 col5\" >-0.25</td>\n",
       "                        <td id=\"T_55f55fad_2982_11eb_a2f8_c0b5d7b1f7f0row7_col6\" class=\"data row7 col6\" >0.91</td>\n",
       "                        <td id=\"T_55f55fad_2982_11eb_a2f8_c0b5d7b1f7f0row7_col7\" class=\"data row7 col7\" >1.00</td>\n",
       "                        <td id=\"T_55f55fad_2982_11eb_a2f8_c0b5d7b1f7f0row7_col8\" class=\"data row7 col8\" >-0.17</td>\n",
       "                        <td id=\"T_55f55fad_2982_11eb_a2f8_c0b5d7b1f7f0row7_col9\" class=\"data row7 col9\" >-0.10</td>\n",
       "                        <td id=\"T_55f55fad_2982_11eb_a2f8_c0b5d7b1f7f0row7_col10\" class=\"data row7 col10\" >-0.06</td>\n",
       "                        <td id=\"T_55f55fad_2982_11eb_a2f8_c0b5d7b1f7f0row7_col11\" class=\"data row7 col11\" >-0.21</td>\n",
       "                        <td id=\"T_55f55fad_2982_11eb_a2f8_c0b5d7b1f7f0row7_col12\" class=\"data row7 col12\" >0.17</td>\n",
       "            </tr>\n",
       "            <tr>\n",
       "                        <th id=\"T_55f55fad_2982_11eb_a2f8_c0b5d7b1f7f0level0_row8\" class=\"row_heading level0 row8\" >PageValues</th>\n",
       "                        <td id=\"T_55f55fad_2982_11eb_a2f8_c0b5d7b1f7f0row8_col0\" class=\"data row8 col0\" >0.10</td>\n",
       "                        <td id=\"T_55f55fad_2982_11eb_a2f8_c0b5d7b1f7f0row8_col1\" class=\"data row8 col1\" >0.07</td>\n",
       "                        <td id=\"T_55f55fad_2982_11eb_a2f8_c0b5d7b1f7f0row8_col2\" class=\"data row8 col2\" >0.05</td>\n",
       "                        <td id=\"T_55f55fad_2982_11eb_a2f8_c0b5d7b1f7f0row8_col3\" class=\"data row8 col3\" >0.03</td>\n",
       "                        <td id=\"T_55f55fad_2982_11eb_a2f8_c0b5d7b1f7f0row8_col4\" class=\"data row8 col4\" >0.06</td>\n",
       "                        <td id=\"T_55f55fad_2982_11eb_a2f8_c0b5d7b1f7f0row8_col5\" class=\"data row8 col5\" >0.05</td>\n",
       "                        <td id=\"T_55f55fad_2982_11eb_a2f8_c0b5d7b1f7f0row8_col6\" class=\"data row8 col6\" >-0.12</td>\n",
       "                        <td id=\"T_55f55fad_2982_11eb_a2f8_c0b5d7b1f7f0row8_col7\" class=\"data row8 col7\" >-0.17</td>\n",
       "                        <td id=\"T_55f55fad_2982_11eb_a2f8_c0b5d7b1f7f0row8_col8\" class=\"data row8 col8\" >1.00</td>\n",
       "                        <td id=\"T_55f55fad_2982_11eb_a2f8_c0b5d7b1f7f0row8_col9\" class=\"data row8 col9\" >0.07</td>\n",
       "                        <td id=\"T_55f55fad_2982_11eb_a2f8_c0b5d7b1f7f0row8_col10\" class=\"data row8 col10\" >0.01</td>\n",
       "                        <td id=\"T_55f55fad_2982_11eb_a2f8_c0b5d7b1f7f0row8_col11\" class=\"data row8 col11\" >0.49</td>\n",
       "                        <td id=\"T_55f55fad_2982_11eb_a2f8_c0b5d7b1f7f0row8_col12\" class=\"data row8 col12\" >-0.12</td>\n",
       "            </tr>\n",
       "            <tr>\n",
       "                        <th id=\"T_55f55fad_2982_11eb_a2f8_c0b5d7b1f7f0level0_row9\" class=\"row_heading level0 row9\" >Month</th>\n",
       "                        <td id=\"T_55f55fad_2982_11eb_a2f8_c0b5d7b1f7f0row9_col0\" class=\"data row9 col0\" >0.10</td>\n",
       "                        <td id=\"T_55f55fad_2982_11eb_a2f8_c0b5d7b1f7f0row9_col1\" class=\"data row9 col1\" >0.06</td>\n",
       "                        <td id=\"T_55f55fad_2982_11eb_a2f8_c0b5d7b1f7f0row9_col2\" class=\"data row9 col2\" >0.06</td>\n",
       "                        <td id=\"T_55f55fad_2982_11eb_a2f8_c0b5d7b1f7f0row9_col3\" class=\"data row9 col3\" >0.04</td>\n",
       "                        <td id=\"T_55f55fad_2982_11eb_a2f8_c0b5d7b1f7f0row9_col4\" class=\"data row9 col4\" >0.16</td>\n",
       "                        <td id=\"T_55f55fad_2982_11eb_a2f8_c0b5d7b1f7f0row9_col5\" class=\"data row9 col5\" >0.14</td>\n",
       "                        <td id=\"T_55f55fad_2982_11eb_a2f8_c0b5d7b1f7f0row9_col6\" class=\"data row9 col6\" >-0.07</td>\n",
       "                        <td id=\"T_55f55fad_2982_11eb_a2f8_c0b5d7b1f7f0row9_col7\" class=\"data row9 col7\" >-0.10</td>\n",
       "                        <td id=\"T_55f55fad_2982_11eb_a2f8_c0b5d7b1f7f0row9_col8\" class=\"data row9 col8\" >0.07</td>\n",
       "                        <td id=\"T_55f55fad_2982_11eb_a2f8_c0b5d7b1f7f0row9_col9\" class=\"data row9 col9\" >1.00</td>\n",
       "                        <td id=\"T_55f55fad_2982_11eb_a2f8_c0b5d7b1f7f0row9_col10\" class=\"data row9 col10\" >0.02</td>\n",
       "                        <td id=\"T_55f55fad_2982_11eb_a2f8_c0b5d7b1f7f0row9_col11\" class=\"data row9 col11\" >0.13</td>\n",
       "                        <td id=\"T_55f55fad_2982_11eb_a2f8_c0b5d7b1f7f0row9_col12\" class=\"data row9 col12\" >-0.11</td>\n",
       "            </tr>\n",
       "            <tr>\n",
       "                        <th id=\"T_55f55fad_2982_11eb_a2f8_c0b5d7b1f7f0level0_row10\" class=\"row_heading level0 row10\" >Weekend</th>\n",
       "                        <td id=\"T_55f55fad_2982_11eb_a2f8_c0b5d7b1f7f0row10_col0\" class=\"data row10 col0\" >0.03</td>\n",
       "                        <td id=\"T_55f55fad_2982_11eb_a2f8_c0b5d7b1f7f0row10_col1\" class=\"data row10 col1\" >0.01</td>\n",
       "                        <td id=\"T_55f55fad_2982_11eb_a2f8_c0b5d7b1f7f0row10_col2\" class=\"data row10 col2\" >0.04</td>\n",
       "                        <td id=\"T_55f55fad_2982_11eb_a2f8_c0b5d7b1f7f0row10_col3\" class=\"data row10 col3\" >0.02</td>\n",
       "                        <td id=\"T_55f55fad_2982_11eb_a2f8_c0b5d7b1f7f0row10_col4\" class=\"data row10 col4\" >0.02</td>\n",
       "                        <td id=\"T_55f55fad_2982_11eb_a2f8_c0b5d7b1f7f0row10_col5\" class=\"data row10 col5\" >0.01</td>\n",
       "                        <td id=\"T_55f55fad_2982_11eb_a2f8_c0b5d7b1f7f0row10_col6\" class=\"data row10 col6\" >-0.05</td>\n",
       "                        <td id=\"T_55f55fad_2982_11eb_a2f8_c0b5d7b1f7f0row10_col7\" class=\"data row10 col7\" >-0.06</td>\n",
       "                        <td id=\"T_55f55fad_2982_11eb_a2f8_c0b5d7b1f7f0row10_col8\" class=\"data row10 col8\" >0.01</td>\n",
       "                        <td id=\"T_55f55fad_2982_11eb_a2f8_c0b5d7b1f7f0row10_col9\" class=\"data row10 col9\" >0.02</td>\n",
       "                        <td id=\"T_55f55fad_2982_11eb_a2f8_c0b5d7b1f7f0row10_col10\" class=\"data row10 col10\" >1.00</td>\n",
       "                        <td id=\"T_55f55fad_2982_11eb_a2f8_c0b5d7b1f7f0row10_col11\" class=\"data row10 col11\" >0.03</td>\n",
       "                        <td id=\"T_55f55fad_2982_11eb_a2f8_c0b5d7b1f7f0row10_col12\" class=\"data row10 col12\" >-0.04</td>\n",
       "            </tr>\n",
       "            <tr>\n",
       "                        <th id=\"T_55f55fad_2982_11eb_a2f8_c0b5d7b1f7f0level0_row11\" class=\"row_heading level0 row11\" >Revenue</th>\n",
       "                        <td id=\"T_55f55fad_2982_11eb_a2f8_c0b5d7b1f7f0row11_col0\" class=\"data row11 col0\" >0.14</td>\n",
       "                        <td id=\"T_55f55fad_2982_11eb_a2f8_c0b5d7b1f7f0row11_col1\" class=\"data row11 col1\" >0.09</td>\n",
       "                        <td id=\"T_55f55fad_2982_11eb_a2f8_c0b5d7b1f7f0row11_col2\" class=\"data row11 col2\" >0.10</td>\n",
       "                        <td id=\"T_55f55fad_2982_11eb_a2f8_c0b5d7b1f7f0row11_col3\" class=\"data row11 col3\" >0.07</td>\n",
       "                        <td id=\"T_55f55fad_2982_11eb_a2f8_c0b5d7b1f7f0row11_col4\" class=\"data row11 col4\" >0.16</td>\n",
       "                        <td id=\"T_55f55fad_2982_11eb_a2f8_c0b5d7b1f7f0row11_col5\" class=\"data row11 col5\" >0.15</td>\n",
       "                        <td id=\"T_55f55fad_2982_11eb_a2f8_c0b5d7b1f7f0row11_col6\" class=\"data row11 col6\" >-0.15</td>\n",
       "                        <td id=\"T_55f55fad_2982_11eb_a2f8_c0b5d7b1f7f0row11_col7\" class=\"data row11 col7\" >-0.21</td>\n",
       "                        <td id=\"T_55f55fad_2982_11eb_a2f8_c0b5d7b1f7f0row11_col8\" class=\"data row11 col8\" >0.49</td>\n",
       "                        <td id=\"T_55f55fad_2982_11eb_a2f8_c0b5d7b1f7f0row11_col9\" class=\"data row11 col9\" >0.13</td>\n",
       "                        <td id=\"T_55f55fad_2982_11eb_a2f8_c0b5d7b1f7f0row11_col10\" class=\"data row11 col10\" >0.03</td>\n",
       "                        <td id=\"T_55f55fad_2982_11eb_a2f8_c0b5d7b1f7f0row11_col11\" class=\"data row11 col11\" >1.00</td>\n",
       "                        <td id=\"T_55f55fad_2982_11eb_a2f8_c0b5d7b1f7f0row11_col12\" class=\"data row11 col12\" >-0.10</td>\n",
       "            </tr>\n",
       "            <tr>\n",
       "                        <th id=\"T_55f55fad_2982_11eb_a2f8_c0b5d7b1f7f0level0_row12\" class=\"row_heading level0 row12\" >Returning_Visitor</th>\n",
       "                        <td id=\"T_55f55fad_2982_11eb_a2f8_c0b5d7b1f7f0row12_col0\" class=\"data row12 col0\" >-0.02</td>\n",
       "                        <td id=\"T_55f55fad_2982_11eb_a2f8_c0b5d7b1f7f0row12_col1\" class=\"data row12 col1\" >-0.02</td>\n",
       "                        <td id=\"T_55f55fad_2982_11eb_a2f8_c0b5d7b1f7f0row12_col2\" class=\"data row12 col2\" >0.06</td>\n",
       "                        <td id=\"T_55f55fad_2982_11eb_a2f8_c0b5d7b1f7f0row12_col3\" class=\"data row12 col3\" >0.05</td>\n",
       "                        <td id=\"T_55f55fad_2982_11eb_a2f8_c0b5d7b1f7f0row12_col4\" class=\"data row12 col4\" >0.13</td>\n",
       "                        <td id=\"T_55f55fad_2982_11eb_a2f8_c0b5d7b1f7f0row12_col5\" class=\"data row12 col5\" >0.12</td>\n",
       "                        <td id=\"T_55f55fad_2982_11eb_a2f8_c0b5d7b1f7f0row12_col6\" class=\"data row12 col6\" >0.13</td>\n",
       "                        <td id=\"T_55f55fad_2982_11eb_a2f8_c0b5d7b1f7f0row12_col7\" class=\"data row12 col7\" >0.17</td>\n",
       "                        <td id=\"T_55f55fad_2982_11eb_a2f8_c0b5d7b1f7f0row12_col8\" class=\"data row12 col8\" >-0.12</td>\n",
       "                        <td id=\"T_55f55fad_2982_11eb_a2f8_c0b5d7b1f7f0row12_col9\" class=\"data row12 col9\" >-0.11</td>\n",
       "                        <td id=\"T_55f55fad_2982_11eb_a2f8_c0b5d7b1f7f0row12_col10\" class=\"data row12 col10\" >-0.04</td>\n",
       "                        <td id=\"T_55f55fad_2982_11eb_a2f8_c0b5d7b1f7f0row12_col11\" class=\"data row12 col11\" >-0.10</td>\n",
       "                        <td id=\"T_55f55fad_2982_11eb_a2f8_c0b5d7b1f7f0row12_col12\" class=\"data row12 col12\" >1.00</td>\n",
       "            </tr>\n",
       "    </tbody></table>"
      ],
      "text/plain": [
       "<pandas.io.formats.style.Styler at 0x1afa2ef3e80>"
      ]
     },
     "execution_count": 43,
     "metadata": {},
     "output_type": "execute_result"
    }
   ],
   "source": [
    "#Using correlation matrix, for finding the relationship between the attributes\n",
    "corr = osi2.corr()\n",
    "corr.style.background_gradient(cmap='viridis').set_precision(2)"
   ]
  },
  {
   "cell_type": "code",
   "execution_count": 44,
   "metadata": {},
   "outputs": [
    {
     "name": "stdout",
     "output_type": "stream",
     "text": [
      "             Specifications          Score\n",
      "5   ProductRelated_Duration  877404.339415\n",
      "8                PageValues  175126.808512\n",
      "1   Administrative_Duration   41754.836841\n",
      "3    Informational_Duration   35059.775770\n",
      "4            ProductRelated   19317.285376\n",
      "0            Administrative    1133.965531\n",
      "2             Informational     357.981605\n",
      "10                    Month     300.903189\n",
      "9                SpecialDay      53.797094\n",
      "6               BounceRates      29.654336\n",
      "\n",
      "Top 10 Best Features using SelectKBest class\n"
     ]
    }
   ],
   "source": [
    "#Using SelectKBest Class to find top 10 features\n",
    "bestfeatures = SelectKBest(score_func=chi2, k=10)\n",
    "fit = bestfeatures.fit(x2,y2)\n",
    "dfscores = pd.DataFrame(fit.scores_)\n",
    "dfcolumns = pd.DataFrame(x2.columns)\n",
    "\n",
    "featureScores = pd.concat([dfcolumns,dfscores],axis=1)\n",
    "featureScores.columns = ['Specifications','Score']  \n",
    "print(featureScores.nlargest(10,'Score')) \n",
    "print(\"\")\n",
    "print(\"Top 10 Best Features using SelectKBest class\")"
   ]
  },
  {
   "cell_type": "code",
   "execution_count": 45,
   "metadata": {},
   "outputs": [
    {
     "data": {
      "image/png": "[encoded data removed]",
      "text/plain": [
       "<Figure size 864x576 with 1 Axes>"
      ]
     },
     "metadata": {
      "needs_background": "light"
     },
     "output_type": "display_data"
    }
   ],
   "source": [
    "#Plotting linear regression for Bounce Rates and Exit Rates\n",
    "plt.figure(figsize=(12, 8))\n",
    "sns.regplot(x=osi2[\"BounceRates\"], y=osi2[\"ExitRates\"], color=\"g\")\n",
    "plt.show()"
   ]
  },
  {
   "cell_type": "code",
   "execution_count": 46,
   "metadata": {},
   "outputs": [
    {
     "data": {
      "image/png": "[encoded data removed]",
      "text/plain": [
       "<Figure size 864x576 with 1 Axes>"
      ]
     },
     "metadata": {
      "needs_background": "light"
     },
     "output_type": "display_data"
    }
   ],
   "source": [
    "#Plotting linear regression for Page Values and Revenue\n",
    "plt.figure(figsize=(12, 8))\n",
    "sns.regplot(x=osi2[\"PageValues\"], y=osi2[\"Revenue\"], color=\"g\")\n",
    "plt.show()"
   ]
  },
  {
   "cell_type": "code",
   "execution_count": 47,
   "metadata": {},
   "outputs": [
    {
     "data": {
      "image/png": "[encoded data removed]",
      "text/plain": [
       "<Figure size 864x576 with 1 Axes>"
      ]
     },
     "metadata": {
      "needs_background": "light"
     },
     "output_type": "display_data"
    }
   ],
   "source": [
    "plt.figure(figsize=(12, 8))\n",
    "sns.regplot(x=osi2[\"Administrative\"], y=osi2[\"ProductRelated\"], color=\"g\")\n",
    "plt.show()"
   ]
  },
  {
   "cell_type": "code",
   "execution_count": 48,
   "metadata": {},
   "outputs": [
    {
     "data": {
      "image/png": "[encoded data removed]",
      "text/plain": [
       "<Figure size 864x576 with 1 Axes>"
      ]
     },
     "metadata": {
      "needs_background": "light"
     },
     "output_type": "display_data"
    }
   ],
   "source": [
    "plt.figure(figsize=(12, 8))\n",
    "sns.regplot(x=osi2[\"Administrative\"], y=osi2[\"Administrative_Duration\"], color=\"g\")\n",
    "plt.show()"
   ]
  },
  {
   "cell_type": "code",
   "execution_count": 49,
   "metadata": {},
   "outputs": [
    {
     "data": {
      "image/png": "[encoded data removed]",
      "text/plain": [
       "<Figure size 864x576 with 1 Axes>"
      ]
     },
     "metadata": {
      "needs_background": "light"
     },
     "output_type": "display_data"
    }
   ],
   "source": [
    "plt.figure(figsize=(12, 8))\n",
    "sns.regplot(x=osi2[\"ProductRelated\"], y=osi2[\"ProductRelated_Duration\"], color=\"g\")\n",
    "plt.show()"
   ]
  },
  {
   "cell_type": "code",
   "execution_count": 50,
   "metadata": {},
   "outputs": [
    {
     "name": "stdout",
     "output_type": "stream",
     "text": [
      "Shape of x2: (12330, 17)\n",
      "Shape of y2: (12330,)\n"
     ]
    }
   ],
   "source": [
    "#Checking the shape of x2 and y2 before Modelling\n",
    "print(\"Shape of x2:\", x2.shape)\n",
    "print(\"Shape of y2:\", y2.shape)"
   ]
  },
  {
   "cell_type": "code",
   "execution_count": 51,
   "metadata": {},
   "outputs": [
    {
     "data": {
      "text/plain": [
       "dtype('int64')"
      ]
     },
     "execution_count": 51,
     "metadata": {},
     "output_type": "execute_result"
    }
   ],
   "source": [
    "y2.dtypes"
   ]
  },
  {
   "cell_type": "markdown",
   "metadata": {},
   "source": [
    "# Data Modelling"
   ]
  },
  {
   "cell_type": "markdown",
   "metadata": {},
   "source": [
    "# Suite - 1 50% for Training and 50% for Testing"
   ]
  },
  {
   "cell_type": "code",
   "execution_count": 52,
   "metadata": {},
   "outputs": [
    {
     "name": "stdout",
     "output_type": "stream",
     "text": [
      "Shape of x_train : (6165, 17)\n",
      "Shape of y_train : (6165,)\n",
      "Shape of x_test : (6165, 17)\n",
      "Shape of y_test : (6165,)\n"
     ]
    }
   ],
   "source": [
    "#x and y are split into test and train based on test size\n",
    "x_train, x_test, y_train, y_test = train_test_split(x2, y2, test_size = 0.5, random_state = 0)\n",
    "\n",
    "\n",
    "print(\"Shape of x_train :\", x_train.shape)\n",
    "print(\"Shape of y_train :\", y_train.shape)\n",
    "print(\"Shape of x_test :\", x_test.shape)\n",
    "print(\"Shape of y_test :\", y_test.shape)"
   ]
  },
  {
   "cell_type": "code",
   "execution_count": 53,
   "metadata": {},
   "outputs": [
    {
     "name": "stdout",
     "output_type": "stream",
     "text": [
      "Training Accuracy : 0.9083536090835361\n",
      "Testing Accuracy : 0.8944038929440389\n",
      "Accuracy : 0.8944038929440389\n"
     ]
    }
   ],
   "source": [
    "#Random Forest Classification model is chosen to train and test the model\n",
    "chosenmodel = RandomForestClassifier(max_depth=5, random_state =101)\n",
    "chosenmodel.fit(x_train, y_train)\n",
    "\n",
    "y_predict = chosenmodel.predict(x_test)\n",
    "\n",
    "print(\"Training Accuracy :\", chosenmodel.score(x_train, y_train))\n",
    "print(\"Testing Accuracy :\", chosenmodel.score(x_test, y_test))\n",
    "print(\"Accuracy :\", accuracy_score(y_test, y_predict))"
   ]
  },
  {
   "cell_type": "code",
   "execution_count": 54,
   "metadata": {},
   "outputs": [
    {
     "data": {
      "image/png": "[encoded data removed]",
      "text/plain": [
       "<Figure size 576x360 with 2 Axes>"
      ]
     },
     "metadata": {
      "needs_background": "light"
     },
     "output_type": "display_data"
    }
   ],
   "source": [
    "#Plotting the confusion matrix\n",
    "cm = confusion_matrix(y_test,y_predict)\n",
    "confusionmatrix = pd.DataFrame(data=cm, columns=['Predicted:0','Predicted:1'], index=['Actual:0','Actual:1'])\n",
    "plt.figure(figsize = (8,5))\n",
    "sns.heatmap(confusionmatrix, annot=True, fmt='d', cmap=\"viridis\")\n",
    "plt.show()"
   ]
  },
  {
   "cell_type": "code",
   "execution_count": 55,
   "metadata": {},
   "outputs": [
    {
     "name": "stdout",
     "output_type": "stream",
     "text": [
      "              precision    recall  f1-score   support\n",
      "\n",
      "           0       0.90      0.98      0.94      5192\n",
      "           1       0.81      0.43      0.57       973\n",
      "\n",
      "    accuracy                           0.89      6165\n",
      "   macro avg       0.85      0.71      0.75      6165\n",
      "weighted avg       0.89      0.89      0.88      6165\n",
      "\n"
     ]
    }
   ],
   "source": [
    "#Printing the Classification Report\n",
    "classreport = classification_report(y_test, y_predict)\n",
    "print(classreport)"
   ]
  },
  {
   "cell_type": "code",
   "execution_count": 56,
   "metadata": {},
   "outputs": [
    {
     "data": {
      "image/png": "[encoded data removed]",
      "text/plain": [
       "<Figure size 432x288 with 1 Axes>"
      ]
     },
     "metadata": {
      "needs_background": "light"
     },
     "output_type": "display_data"
    }
   ],
   "source": [
    "#Plotting the scores on the graph\n",
    "scores=[]\n",
    "for i in (np.arange(100,2000,100)):\n",
    "  classifier = RandomForestClassifier(n_estimators =i, max_depth=5, random_state =101) \n",
    "  classifier.fit(x_train, y_train) \n",
    "  scores.append(classifier.score(x_test,y_test)) \n",
    "plt.plot(np.arange(100,2000,100),scores) \n",
    "plt.show()"
   ]
  },
  {
   "cell_type": "code",
   "execution_count": 57,
   "metadata": {},
   "outputs": [
    {
     "name": "stdout",
     "output_type": "stream",
     "text": [
      "Training Accuracy : 0.9094890510948905\n",
      "Testing Accuracy : 0.8976480129764801\n",
      "Accuracy : 0.8976480129764801\n"
     ]
    }
   ],
   "source": [
    "#Decision Tree Classification model is chosen to train and test the model\n",
    "chosenmodel = DecisionTreeClassifier(max_depth =5, random_state =101)\n",
    "chosenmodel.fit(x_train, y_train)\n",
    "\n",
    "y_predict = chosenmodel.predict(x_test)\n",
    "\n",
    "print(\"Training Accuracy :\", chosenmodel.score(x_train, y_train))\n",
    "print(\"Testing Accuracy :\", chosenmodel.score(x_test, y_test))\n",
    "print(\"Accuracy :\", accuracy_score(y_test, y_predict))"
   ]
  },
  {
   "cell_type": "code",
   "execution_count": 58,
   "metadata": {},
   "outputs": [
    {
     "data": {
      "image/png": "[encoded data removed]",
      "text/plain": [
       "<Figure size 576x360 with 2 Axes>"
      ]
     },
     "metadata": {
      "needs_background": "light"
     },
     "output_type": "display_data"
    }
   ],
   "source": [
    "#Plotting the confusion matrix\n",
    "cm = confusion_matrix(y_test,y_predict)\n",
    "confusionmatrix = pd.DataFrame(data=cm, columns=['Predicted:0','Predicted:1'], index=['Actual:0','Actual:1'])\n",
    "plt.figure(figsize = (8,5))\n",
    "sns.heatmap(confusionmatrix, annot=True, fmt='d', cmap=\"viridis\")\n",
    "plt.show()"
   ]
  },
  {
   "cell_type": "code",
   "execution_count": 59,
   "metadata": {},
   "outputs": [
    {
     "name": "stdout",
     "output_type": "stream",
     "text": [
      "              precision    recall  f1-score   support\n",
      "\n",
      "           0       0.93      0.95      0.94      5192\n",
      "           1       0.69      0.64      0.66       973\n",
      "\n",
      "    accuracy                           0.90      6165\n",
      "   macro avg       0.81      0.79      0.80      6165\n",
      "weighted avg       0.89      0.90      0.90      6165\n",
      "\n"
     ]
    }
   ],
   "source": [
    "#Printing the Classification Report\n",
    "classreport = classification_report(y_test, y_predict)\n",
    "print(classreport)"
   ]
  },
  {
   "cell_type": "code",
   "execution_count": 60,
   "metadata": {},
   "outputs": [
    {
     "data": {
      "image/png": "[encoded data removed]",
      "text/plain": [
       "<Figure size 432x288 with 1 Axes>"
      ]
     },
     "metadata": {
      "needs_background": "light"
     },
     "output_type": "display_data"
    }
   ],
   "source": [
    "#Plotting the scores on the graph\n",
    "scores=[]\n",
    "for i in range(1,25):\n",
    "  tree=DecisionTreeClassifier(max_depth = i) \n",
    "  tree.fit(x_train, y_train) \n",
    "  scores.append(tree.score(x_test,y_test)) \n",
    "plt.plot(range(1,25),scores) \n",
    "plt.show()"
   ]
  },
  {
   "cell_type": "code",
   "execution_count": 61,
   "metadata": {},
   "outputs": [
    {
     "name": "stdout",
     "output_type": "stream",
     "text": [
      "DTC 0.9007299270072991\n",
      "RFC 0.8961881589618816\n",
      "[array([0.90673155, 0.88888889, 0.89943228, 0.90673155, 0.90186537]), array([0.90348743, 0.89294404, 0.89375507, 0.89051095, 0.90024331])]\n"
     ]
    },
    {
     "data": {
      "image/png": "[encoded data removed]",
      "text/plain": [
       "<Figure size 432x288 with 1 Axes>"
      ]
     },
     "metadata": {
      "needs_background": "light"
     },
     "output_type": "display_data"
    }
   ],
   "source": [
    "# making a list of ml classification models\n",
    "models = []\n",
    "\n",
    "def classification_Models(x_train, x_test, y_train, y_test ):\n",
    "    \n",
    "\n",
    "    \n",
    "    models.append( ('DTC',DecisionTreeClassifier(max_depth =5, random_state =101)) )\n",
    "    models.append( ('RFC',RandomForestClassifier(max_depth=5, random_state =101)) )\n",
    "\n",
    "    modeloutcomes = []\n",
    "    modelnames = []\n",
    "    for name,model in models:\n",
    "        v_results = cross_val_score(model, x_train, y_train, \n",
    "                                     scoring='accuracy')\n",
    "        print(name,v_results.mean())\n",
    "        modeloutcomes.append(v_results)\n",
    "        modelnames.append(name)\n",
    "        \n",
    "    print(modeloutcomes)\n",
    "    fig = plt.figure()\n",
    "    ax = fig.add_subplot(111)\n",
    "    ax.set_xticklabels(modelnames)\n",
    "    plt.boxplot(modeloutcomes)\n",
    "        \n",
    "classification_Models(x_train, x_test, y_train, y_test)"
   ]
  },
  {
   "cell_type": "markdown",
   "metadata": {},
   "source": [
    "# Suite - 2 60% for Training and 40% for Testing"
   ]
  },
  {
   "cell_type": "code",
   "execution_count": 62,
   "metadata": {},
   "outputs": [
    {
     "name": "stdout",
     "output_type": "stream",
     "text": [
      "Shape of x_train : (7398, 17)\n",
      "Shape of y_train : (7398,)\n",
      "Shape of x_test : (4932, 17)\n",
      "Shape of y_test : (4932,)\n"
     ]
    }
   ],
   "source": [
    "#x and y are split into test and train based on test size\n",
    "x_train, x_test, y_train, y_test = train_test_split(x2, y2, test_size = 0.4, random_state = 0)\n",
    "\n",
    "\n",
    "print(\"Shape of x_train :\", x_train.shape)\n",
    "print(\"Shape of y_train :\", y_train.shape)\n",
    "print(\"Shape of x_test :\", x_test.shape)\n",
    "print(\"Shape of y_test :\", y_test.shape)"
   ]
  },
  {
   "cell_type": "code",
   "execution_count": 63,
   "metadata": {},
   "outputs": [
    {
     "name": "stdout",
     "output_type": "stream",
     "text": [
      "Training Accuracy : 0.9105163557718302\n",
      "Testing Accuracy : 0.8927412814274128\n",
      "Accuracy : 0.8927412814274128\n"
     ]
    }
   ],
   "source": [
    "#Random Forest Classification model is chosen to train and test the model\n",
    "chosenmodel = RandomForestClassifier(max_depth=5, random_state =101)\n",
    "chosenmodel.fit(x_train, y_train)\n",
    "\n",
    "y_predict = chosenmodel.predict(x_test)\n",
    "\n",
    "print(\"Training Accuracy :\", chosenmodel.score(x_train, y_train))\n",
    "print(\"Testing Accuracy :\", chosenmodel.score(x_test, y_test))\n",
    "print(\"Accuracy :\", accuracy_score(y_test, y_predict))"
   ]
  },
  {
   "cell_type": "code",
   "execution_count": 64,
   "metadata": {},
   "outputs": [
    {
     "data": {
      "image/png": "[encoded data removed]",
      "text/plain": [
       "<Figure size 576x360 with 2 Axes>"
      ]
     },
     "metadata": {
      "needs_background": "light"
     },
     "output_type": "display_data"
    }
   ],
   "source": [
    "#Plotting the confusion matrix\n",
    "cm = confusion_matrix(y_test,y_predict)\n",
    "confusionmatrix = pd.DataFrame(data=cm, columns=['Predicted:0','Predicted:1'], index=['Actual:0','Actual:1'])\n",
    "plt.figure(figsize = (8,5))\n",
    "sns.heatmap(confusionmatrix, annot=True, fmt='d', cmap=\"viridis\")\n",
    "plt.show()"
   ]
  },
  {
   "cell_type": "code",
   "execution_count": 65,
   "metadata": {},
   "outputs": [
    {
     "name": "stdout",
     "output_type": "stream",
     "text": [
      "              precision    recall  f1-score   support\n",
      "\n",
      "           0       0.90      0.98      0.94      4137\n",
      "           1       0.81      0.44      0.57       795\n",
      "\n",
      "    accuracy                           0.89      4932\n",
      "   macro avg       0.85      0.71      0.75      4932\n",
      "weighted avg       0.89      0.89      0.88      4932\n",
      "\n"
     ]
    }
   ],
   "source": [
    "#Printing the Classification Report\n",
    "classreport = classification_report(y_test, y_predict)\n",
    "print(classreport)"
   ]
  },
  {
   "cell_type": "code",
   "execution_count": null,
   "metadata": {},
   "outputs": [],
   "source": []
  }
 ],
 "metadata": {
  "kernelspec": {
   "display_name": "Python 3",
   "language": "python",
   "name": "python3"
  },
  "language_info": {
   "codemirror_mode": {
    "name": "ipython",
    "version": 3
   },
   "file_extension": ".py",
   "mimetype": "text/x-python",
   "name": "python",
   "nbconvert_exporter": "python",
   "pygments_lexer": "ipython3",
   "version": "3.8.3"
  }
 },
 "nbformat": 4,
 "nbformat_minor": 4
}
